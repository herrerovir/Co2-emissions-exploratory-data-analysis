{
 "cells": [
  {
   "cell_type": "markdown",
   "metadata": {},
   "source": [
    "# CO<sub>2</sub> emissions over the past 50 years\n",
    "**Author:** Virginia Herrero"
   ]
  },
  {
   "cell_type": "markdown",
   "metadata": {},
   "source": [
    "## Introduction\n",
    "\n",
    "Carbon dioxide (CO<sub>2</sub>) is a colorless, odorless, non-poisonous gas formed by the combustion of carbon and is considered a greenhouse gas. Greenhouse gases absorb infrared radiation and emit it back to Earth, increasing the temperature of the Earth's surface. This is known as the greenhouse effect. \n",
    "\n",
    "Emissions are the release of greenhouse gases into the atmosphere over a given area and time period. Carbon dioxide emissions or CO<sub>2</sub> emissions are emissions from the combustion of fossil fuels (coal, oil and gas) and the manufacture of cement.\n",
    "\n",
    "Carbon dioxide emissions are the main cause of global warming.  Since the industrial revolution, the burning of fossil fuels has increased, which is directly correlated with the increase of carbon dioxide levels in the atmosphere and, therefore, with the rapid increase of global warming."
   ]
  },
  {
   "cell_type": "markdown",
   "metadata": {},
   "source": [
    "## Goal\n",
    "\n",
    "The main objective of this project is to conduct an exploratory analysis of carbon dioxide emissions over the last 50 years to discover valuable information about carbon emissions and the factors that influence them. \n",
    "\n",
    "Through data exploration and analysis, it is expected to find answers to the following key points:\n",
    "\n",
    "* Evolution of CO<sub>2</sub> emissions by year\n",
    "* Evolution of CO<sub>2</sub> emissions by continent\n",
    "* Main CO<sub>2</sub> emitters\n",
    "* Main source of CO<sub>2</sub> emissions\n",
    "* Factors influencing (positively or negatively) on CO<sub>2</sub> emissions"
   ]
  },
  {
   "cell_type": "markdown",
   "metadata": {},
   "source": [
    "## Project Overview\n",
    "\n",
    "1. Data loading\n",
    "2. Data cleaning\n",
    "3. Data analysis\n",
    "4. Insights"
   ]
  },
  {
   "cell_type": "markdown",
   "metadata": {},
   "source": [
    "## Data loading\n",
    "Load the CSV file **co2-emissions-dataset** as a pandas DataFrame."
   ]
  },
  {
   "cell_type": "code",
   "execution_count": 1,
   "metadata": {},
   "outputs": [],
   "source": [
    "# Import all required libraries\n",
    "import numpy as np\n",
    "import pandas as pd\n",
    "import matplotlib.pyplot as plt\n",
    "import seaborn as sns\n",
    "%matplotlib inline"
   ]
  },
  {
   "cell_type": "code",
   "execution_count": 2,
   "metadata": {},
   "outputs": [
    {
     "data": {
      "text/html": [
       "<div>\n",
       "<style scoped>\n",
       "    .dataframe tbody tr th:only-of-type {\n",
       "        vertical-align: middle;\n",
       "    }\n",
       "\n",
       "    .dataframe tbody tr th {\n",
       "        vertical-align: top;\n",
       "    }\n",
       "\n",
       "    .dataframe thead th {\n",
       "        text-align: right;\n",
       "    }\n",
       "</style>\n",
       "<table border=\"1\" class=\"dataframe\">\n",
       "  <thead>\n",
       "    <tr style=\"text-align: right;\">\n",
       "      <th></th>\n",
       "      <th>country</th>\n",
       "      <th>year</th>\n",
       "      <th>iso_code</th>\n",
       "      <th>population</th>\n",
       "      <th>gdp</th>\n",
       "      <th>cement_co2</th>\n",
       "      <th>cement_co2_per_capita</th>\n",
       "      <th>co2</th>\n",
       "      <th>co2_growth_abs</th>\n",
       "      <th>co2_growth_prct</th>\n",
       "      <th>...</th>\n",
       "      <th>share_global_cumulative_other_co2</th>\n",
       "      <th>share_global_flaring_co2</th>\n",
       "      <th>share_global_gas_co2</th>\n",
       "      <th>share_global_luc_co2</th>\n",
       "      <th>share_global_oil_co2</th>\n",
       "      <th>share_global_other_co2</th>\n",
       "      <th>total_ghg</th>\n",
       "      <th>total_ghg_excluding_lucf</th>\n",
       "      <th>trade_co2</th>\n",
       "      <th>trade_co2_share</th>\n",
       "    </tr>\n",
       "  </thead>\n",
       "  <tbody>\n",
       "    <tr>\n",
       "      <th>0</th>\n",
       "      <td>Afghanistan</td>\n",
       "      <td>1850</td>\n",
       "      <td>AFG</td>\n",
       "      <td>3752993.0</td>\n",
       "      <td>NaN</td>\n",
       "      <td>NaN</td>\n",
       "      <td>NaN</td>\n",
       "      <td>NaN</td>\n",
       "      <td>NaN</td>\n",
       "      <td>NaN</td>\n",
       "      <td>...</td>\n",
       "      <td>NaN</td>\n",
       "      <td>NaN</td>\n",
       "      <td>NaN</td>\n",
       "      <td>0.121</td>\n",
       "      <td>NaN</td>\n",
       "      <td>NaN</td>\n",
       "      <td>NaN</td>\n",
       "      <td>NaN</td>\n",
       "      <td>NaN</td>\n",
       "      <td>NaN</td>\n",
       "    </tr>\n",
       "    <tr>\n",
       "      <th>1</th>\n",
       "      <td>Afghanistan</td>\n",
       "      <td>1851</td>\n",
       "      <td>AFG</td>\n",
       "      <td>3769828.0</td>\n",
       "      <td>NaN</td>\n",
       "      <td>NaN</td>\n",
       "      <td>NaN</td>\n",
       "      <td>NaN</td>\n",
       "      <td>NaN</td>\n",
       "      <td>NaN</td>\n",
       "      <td>...</td>\n",
       "      <td>NaN</td>\n",
       "      <td>NaN</td>\n",
       "      <td>NaN</td>\n",
       "      <td>0.118</td>\n",
       "      <td>NaN</td>\n",
       "      <td>NaN</td>\n",
       "      <td>NaN</td>\n",
       "      <td>NaN</td>\n",
       "      <td>NaN</td>\n",
       "      <td>NaN</td>\n",
       "    </tr>\n",
       "    <tr>\n",
       "      <th>2</th>\n",
       "      <td>Afghanistan</td>\n",
       "      <td>1852</td>\n",
       "      <td>AFG</td>\n",
       "      <td>3787706.0</td>\n",
       "      <td>NaN</td>\n",
       "      <td>NaN</td>\n",
       "      <td>NaN</td>\n",
       "      <td>NaN</td>\n",
       "      <td>NaN</td>\n",
       "      <td>NaN</td>\n",
       "      <td>...</td>\n",
       "      <td>NaN</td>\n",
       "      <td>NaN</td>\n",
       "      <td>NaN</td>\n",
       "      <td>0.116</td>\n",
       "      <td>NaN</td>\n",
       "      <td>NaN</td>\n",
       "      <td>NaN</td>\n",
       "      <td>NaN</td>\n",
       "      <td>NaN</td>\n",
       "      <td>NaN</td>\n",
       "    </tr>\n",
       "    <tr>\n",
       "      <th>3</th>\n",
       "      <td>Afghanistan</td>\n",
       "      <td>1853</td>\n",
       "      <td>AFG</td>\n",
       "      <td>3806634.0</td>\n",
       "      <td>NaN</td>\n",
       "      <td>NaN</td>\n",
       "      <td>NaN</td>\n",
       "      <td>NaN</td>\n",
       "      <td>NaN</td>\n",
       "      <td>NaN</td>\n",
       "      <td>...</td>\n",
       "      <td>NaN</td>\n",
       "      <td>NaN</td>\n",
       "      <td>NaN</td>\n",
       "      <td>0.115</td>\n",
       "      <td>NaN</td>\n",
       "      <td>NaN</td>\n",
       "      <td>NaN</td>\n",
       "      <td>NaN</td>\n",
       "      <td>NaN</td>\n",
       "      <td>NaN</td>\n",
       "    </tr>\n",
       "    <tr>\n",
       "      <th>4</th>\n",
       "      <td>Afghanistan</td>\n",
       "      <td>1854</td>\n",
       "      <td>AFG</td>\n",
       "      <td>3825655.0</td>\n",
       "      <td>NaN</td>\n",
       "      <td>NaN</td>\n",
       "      <td>NaN</td>\n",
       "      <td>NaN</td>\n",
       "      <td>NaN</td>\n",
       "      <td>NaN</td>\n",
       "      <td>...</td>\n",
       "      <td>NaN</td>\n",
       "      <td>NaN</td>\n",
       "      <td>NaN</td>\n",
       "      <td>0.114</td>\n",
       "      <td>NaN</td>\n",
       "      <td>NaN</td>\n",
       "      <td>NaN</td>\n",
       "      <td>NaN</td>\n",
       "      <td>NaN</td>\n",
       "      <td>NaN</td>\n",
       "    </tr>\n",
       "  </tbody>\n",
       "</table>\n",
       "<p>5 rows × 74 columns</p>\n",
       "</div>"
      ],
      "text/plain": [
       "       country  year iso_code  population  gdp  cement_co2  \\\n",
       "0  Afghanistan  1850      AFG   3752993.0  NaN         NaN   \n",
       "1  Afghanistan  1851      AFG   3769828.0  NaN         NaN   \n",
       "2  Afghanistan  1852      AFG   3787706.0  NaN         NaN   \n",
       "3  Afghanistan  1853      AFG   3806634.0  NaN         NaN   \n",
       "4  Afghanistan  1854      AFG   3825655.0  NaN         NaN   \n",
       "\n",
       "   cement_co2_per_capita  co2  co2_growth_abs  co2_growth_prct  ...  \\\n",
       "0                    NaN  NaN             NaN              NaN  ...   \n",
       "1                    NaN  NaN             NaN              NaN  ...   \n",
       "2                    NaN  NaN             NaN              NaN  ...   \n",
       "3                    NaN  NaN             NaN              NaN  ...   \n",
       "4                    NaN  NaN             NaN              NaN  ...   \n",
       "\n",
       "   share_global_cumulative_other_co2  share_global_flaring_co2  \\\n",
       "0                                NaN                       NaN   \n",
       "1                                NaN                       NaN   \n",
       "2                                NaN                       NaN   \n",
       "3                                NaN                       NaN   \n",
       "4                                NaN                       NaN   \n",
       "\n",
       "   share_global_gas_co2  share_global_luc_co2  share_global_oil_co2  \\\n",
       "0                   NaN                 0.121                   NaN   \n",
       "1                   NaN                 0.118                   NaN   \n",
       "2                   NaN                 0.116                   NaN   \n",
       "3                   NaN                 0.115                   NaN   \n",
       "4                   NaN                 0.114                   NaN   \n",
       "\n",
       "   share_global_other_co2  total_ghg  total_ghg_excluding_lucf  trade_co2  \\\n",
       "0                     NaN        NaN                       NaN        NaN   \n",
       "1                     NaN        NaN                       NaN        NaN   \n",
       "2                     NaN        NaN                       NaN        NaN   \n",
       "3                     NaN        NaN                       NaN        NaN   \n",
       "4                     NaN        NaN                       NaN        NaN   \n",
       "\n",
       "   trade_co2_share  \n",
       "0              NaN  \n",
       "1              NaN  \n",
       "2              NaN  \n",
       "3              NaN  \n",
       "4              NaN  \n",
       "\n",
       "[5 rows x 74 columns]"
      ]
     },
     "execution_count": 2,
     "metadata": {},
     "output_type": "execute_result"
    }
   ],
   "source": [
    "# Load the dataset\n",
    "carbon_emission = pd.read_csv(\"../data/raw/co2-emissions-dataset.csv\")\n",
    "carbon_emission.head()"
   ]
  },
  {
   "cell_type": "markdown",
   "metadata": {},
   "source": [
    "## Data cleaning\n",
    "Clean and pre-process the dataset before it undergoes further analysis."
   ]
  },
  {
   "cell_type": "code",
   "execution_count": 3,
   "metadata": {},
   "outputs": [
    {
     "name": "stdout",
     "output_type": "stream",
     "text": [
      "<class 'pandas.core.frame.DataFrame'>\n",
      "RangeIndex: 46523 entries, 0 to 46522\n",
      "Data columns (total 74 columns):\n",
      " #   Column                                     Non-Null Count  Dtype  \n",
      "---  ------                                     --------------  -----  \n",
      " 0   country                                    46523 non-null  object \n",
      " 1   year                                       46523 non-null  int64  \n",
      " 2   iso_code                                   39862 non-null  object \n",
      " 3   population                                 38574 non-null  float64\n",
      " 4   gdp                                        14551 non-null  float64\n",
      " 5   cement_co2                                 24974 non-null  float64\n",
      " 6   cement_co2_per_capita                      22714 non-null  float64\n",
      " 7   co2                                        31349 non-null  float64\n",
      " 8   co2_growth_abs                             28944 non-null  float64\n",
      " 9   co2_growth_prct                            25032 non-null  float64\n",
      " 10  co2_including_luc                          24212 non-null  float64\n",
      " 11  co2_including_luc_growth_abs               23909 non-null  float64\n",
      " 12  co2_including_luc_growth_prct              24129 non-null  float64\n",
      " 13  co2_including_luc_per_capita               23690 non-null  float64\n",
      " 14  co2_including_luc_per_gdp                  15701 non-null  float64\n",
      " 15  co2_including_luc_per_unit_energy          9528 non-null   float64\n",
      " 16  co2_per_capita                             26915 non-null  float64\n",
      " 17  co2_per_gdp                                16291 non-null  float64\n",
      " 18  co2_per_unit_energy                        10054 non-null  float64\n",
      " 19  coal_co2                                   25069 non-null  float64\n",
      " 20  coal_co2_per_capita                        24421 non-null  float64\n",
      " 21  consumption_co2                            4600 non-null   float64\n",
      " 22  consumption_co2_per_capita                 4227 non-null   float64\n",
      " 23  consumption_co2_per_gdp                    3898 non-null   float64\n",
      " 24  cumulative_cement_co2                      24873 non-null  float64\n",
      " 25  cumulative_co2                             29356 non-null  float64\n",
      " 26  cumulative_co2_including_luc               24212 non-null  float64\n",
      " 27  cumulative_coal_co2                        24968 non-null  float64\n",
      " 28  cumulative_flaring_co2                     24774 non-null  float64\n",
      " 29  cumulative_gas_co2                         24842 non-null  float64\n",
      " 30  cumulative_luc_co2                         39388 non-null  float64\n",
      " 31  cumulative_oil_co2                         24941 non-null  float64\n",
      " 32  cumulative_other_co2                       2386 non-null   float64\n",
      " 33  energy_per_capita                          9987 non-null   float64\n",
      " 34  energy_per_gdp                             7159 non-null   float64\n",
      " 35  flaring_co2                                24875 non-null  float64\n",
      " 36  flaring_co2_per_capita                     24272 non-null  float64\n",
      " 37  gas_co2                                    24943 non-null  float64\n",
      " 38  gas_co2_per_capita                         24340 non-null  float64\n",
      " 39  ghg_excluding_lucf_per_capita              6119 non-null   float64\n",
      " 40  ghg_per_capita                             6119 non-null   float64\n",
      " 41  land_use_change_co2                        39388 non-null  float64\n",
      " 42  land_use_change_co2_per_capita             36026 non-null  float64\n",
      " 43  methane                                    6150 non-null   float64\n",
      " 44  methane_per_capita                         6120 non-null   float64\n",
      " 45  nitrous_oxide                              6150 non-null   float64\n",
      " 46  nitrous_oxide_per_capita                   6120 non-null   float64\n",
      " 47  oil_co2                                    25042 non-null  float64\n",
      " 48  oil_co2_per_capita                         24367 non-null  float64\n",
      " 49  other_co2_per_capita                       2386 non-null   float64\n",
      " 50  other_industry_co2                         2386 non-null   float64\n",
      " 51  primary_energy_consumption                 10085 non-null  float64\n",
      " 52  share_global_cement_co2                    20830 non-null  float64\n",
      " 53  share_global_co2                           29356 non-null  float64\n",
      " 54  share_global_co2_including_luc             24212 non-null  float64\n",
      " 55  share_global_coal_co2                      24968 non-null  float64\n",
      " 56  share_global_cumulative_cement_co2         20830 non-null  float64\n",
      " 57  share_global_cumulative_co2                29356 non-null  float64\n",
      " 58  share_global_cumulative_co2_including_luc  24212 non-null  float64\n",
      " 59  share_global_cumulative_coal_co2           24968 non-null  float64\n",
      " 60  share_global_cumulative_flaring_co2        15980 non-null  float64\n",
      " 61  share_global_cumulative_gas_co2            21990 non-null  float64\n",
      " 62  share_global_cumulative_luc_co2            39388 non-null  float64\n",
      " 63  share_global_cumulative_oil_co2            23421 non-null  float64\n",
      " 64  share_global_cumulative_other_co2          2386 non-null   float64\n",
      " 65  share_global_flaring_co2                   15980 non-null  float64\n",
      " 66  share_global_gas_co2                       21990 non-null  float64\n",
      " 67  share_global_luc_co2                       39388 non-null  float64\n",
      " 68  share_global_oil_co2                       23421 non-null  float64\n",
      " 69  share_global_other_co2                     2386 non-null   float64\n",
      " 70  total_ghg                                  6149 non-null   float64\n",
      " 71  total_ghg_excluding_lucf                   6149 non-null   float64\n",
      " 72  trade_co2                                  4259 non-null   float64\n",
      " 73  trade_co2_share                            4258 non-null   float64\n",
      "dtypes: float64(71), int64(1), object(2)\n",
      "memory usage: 26.3+ MB\n"
     ]
    }
   ],
   "source": [
    "carbon_emission.info()"
   ]
  },
  {
   "cell_type": "markdown",
   "metadata": {},
   "source": [
    "* **Remove unnecessary columns**\n",
    "\n",
    "All columns or features that are not necessary for this analysis are dropped from the dataset."
   ]
  },
  {
   "cell_type": "code",
   "execution_count": 4,
   "metadata": {},
   "outputs": [
    {
     "data": {
      "text/plain": [
       "Index(['country', 'year', 'iso_code', 'population', 'gdp', 'cement_co2',\n",
       "       'cement_co2_per_capita', 'co2', 'co2_growth_abs', 'co2_growth_prct',\n",
       "       'co2_including_luc', 'co2_including_luc_growth_abs',\n",
       "       'co2_including_luc_growth_prct', 'co2_including_luc_per_capita',\n",
       "       'co2_including_luc_per_gdp', 'co2_including_luc_per_unit_energy',\n",
       "       'co2_per_capita', 'co2_per_gdp', 'co2_per_unit_energy', 'coal_co2',\n",
       "       'coal_co2_per_capita', 'consumption_co2', 'consumption_co2_per_capita',\n",
       "       'consumption_co2_per_gdp', 'cumulative_cement_co2', 'cumulative_co2',\n",
       "       'cumulative_co2_including_luc', 'cumulative_coal_co2',\n",
       "       'cumulative_flaring_co2', 'cumulative_gas_co2', 'cumulative_luc_co2',\n",
       "       'cumulative_oil_co2', 'cumulative_other_co2', 'energy_per_capita',\n",
       "       'energy_per_gdp', 'flaring_co2', 'flaring_co2_per_capita', 'gas_co2',\n",
       "       'gas_co2_per_capita', 'ghg_excluding_lucf_per_capita', 'ghg_per_capita',\n",
       "       'land_use_change_co2', 'land_use_change_co2_per_capita', 'methane',\n",
       "       'methane_per_capita', 'nitrous_oxide', 'nitrous_oxide_per_capita',\n",
       "       'oil_co2', 'oil_co2_per_capita', 'other_co2_per_capita',\n",
       "       'other_industry_co2', 'primary_energy_consumption',\n",
       "       'share_global_cement_co2', 'share_global_co2',\n",
       "       'share_global_co2_including_luc', 'share_global_coal_co2',\n",
       "       'share_global_cumulative_cement_co2', 'share_global_cumulative_co2',\n",
       "       'share_global_cumulative_co2_including_luc',\n",
       "       'share_global_cumulative_coal_co2',\n",
       "       'share_global_cumulative_flaring_co2',\n",
       "       'share_global_cumulative_gas_co2', 'share_global_cumulative_luc_co2',\n",
       "       'share_global_cumulative_oil_co2', 'share_global_cumulative_other_co2',\n",
       "       'share_global_flaring_co2', 'share_global_gas_co2',\n",
       "       'share_global_luc_co2', 'share_global_oil_co2',\n",
       "       'share_global_other_co2', 'total_ghg', 'total_ghg_excluding_lucf',\n",
       "       'trade_co2', 'trade_co2_share'],\n",
       "      dtype='object')"
      ]
     },
     "execution_count": 4,
     "metadata": {},
     "output_type": "execute_result"
    }
   ],
   "source": [
    "carbon_emission.columns"
   ]
  },
  {
   "cell_type": "code",
   "execution_count": 5,
   "metadata": {},
   "outputs": [],
   "source": [
    "# Select the columns to drop\n",
    "columns_to_drop = [\"iso_code\", \"cement_co2_per_capita\", \"co2_growth_prct\", \"co2_including_luc_growth_prct\", \"co2_including_luc\", \n",
    "                   \"co2_including_luc_growth_abs\", \"co2_including_luc_per_capita\", \"co2_including_luc_per_gdp\", \"co2_including_luc_per_unit_energy\",\n",
    "                   \"co2_per_capita\", \"co2_per_unit_energy\", \"coal_co2_per_capita\", \"consumption_co2\", \"consumption_co2_per_capita\", \"consumption_co2_per_gdp\",\n",
    "                   \"cumulative_cement_co2\", \"cumulative_co2\", \"cumulative_co2_including_luc\", \"cumulative_coal_co2\", \"cumulative_flaring_co2\",\n",
    "                   \"cumulative_gas_co2\", \"cumulative_luc_co2\", \"cumulative_oil_co2\", \"cumulative_other_co2\", \"energy_per_capita\", \"energy_per_gdp\",\n",
    "                   \"flaring_co2_per_capita\", \"gas_co2_per_capita\", \"ghg_excluding_lucf_per_capita\", \"ghg_per_capita\", \"land_use_change_co2_per_capita\",\n",
    "                   \"methane\", \"methane_per_capita\", \"nitrous_oxide\", \"nitrous_oxide_per_capita\", \"oil_co2_per_capita\", \"other_co2_per_capita\",\n",
    "                   \"primary_energy_consumption\", \"share_global_cement_co2\", \"share_global_co2\", \"share_global_co2_including_luc\", \"share_global_coal_co2\", \n",
    "                   \"share_global_cumulative_cement_co2\", \"share_global_cumulative_co2\", \"share_global_cumulative_co2_including_luc\", \"share_global_cumulative_coal_co2\",\n",
    "                   \"share_global_cumulative_flaring_co2\", \"share_global_cumulative_gas_co2\", \"share_global_cumulative_luc_co2\", \"share_global_cumulative_oil_co2\", \n",
    "                   \"share_global_cumulative_other_co2\", \"share_global_flaring_co2\", \"share_global_gas_co2\", \"share_global_luc_co2\", \"share_global_oil_co2\", \n",
    "                   \"share_global_other_co2\",\"total_ghg\", \"total_ghg_excluding_lucf\", \"trade_co2\", \"trade_co2_share\", \"co2_growth_abs\", \"co2_per_gdp\"]"
   ]
  },
  {
   "cell_type": "code",
   "execution_count": 6,
   "metadata": {},
   "outputs": [],
   "source": [
    "carbon_emission = carbon_emission.drop(columns_to_drop, axis = 1)"
   ]
  },
  {
   "cell_type": "code",
   "execution_count": 7,
   "metadata": {},
   "outputs": [
    {
     "data": {
      "text/plain": [
       "Index(['country', 'year', 'population', 'gdp', 'cement_co2', 'co2', 'coal_co2',\n",
       "       'flaring_co2', 'gas_co2', 'land_use_change_co2', 'oil_co2',\n",
       "       'other_industry_co2'],\n",
       "      dtype='object')"
      ]
     },
     "execution_count": 7,
     "metadata": {},
     "output_type": "execute_result"
    }
   ],
   "source": [
    "carbon_emission.columns"
   ]
  },
  {
   "cell_type": "code",
   "execution_count": 8,
   "metadata": {},
   "outputs": [
    {
     "data": {
      "text/html": [
       "<div>\n",
       "<style scoped>\n",
       "    .dataframe tbody tr th:only-of-type {\n",
       "        vertical-align: middle;\n",
       "    }\n",
       "\n",
       "    .dataframe tbody tr th {\n",
       "        vertical-align: top;\n",
       "    }\n",
       "\n",
       "    .dataframe thead th {\n",
       "        text-align: right;\n",
       "    }\n",
       "</style>\n",
       "<table border=\"1\" class=\"dataframe\">\n",
       "  <thead>\n",
       "    <tr style=\"text-align: right;\">\n",
       "      <th></th>\n",
       "      <th>country</th>\n",
       "      <th>year</th>\n",
       "      <th>population</th>\n",
       "      <th>gdp</th>\n",
       "      <th>cement_co2</th>\n",
       "      <th>co2</th>\n",
       "      <th>coal_co2</th>\n",
       "      <th>flaring_co2</th>\n",
       "      <th>gas_co2</th>\n",
       "      <th>land_use_change_co2</th>\n",
       "      <th>oil_co2</th>\n",
       "      <th>other_industry_co2</th>\n",
       "    </tr>\n",
       "  </thead>\n",
       "  <tbody>\n",
       "    <tr>\n",
       "      <th>0</th>\n",
       "      <td>Afghanistan</td>\n",
       "      <td>1850</td>\n",
       "      <td>3752993.0</td>\n",
       "      <td>NaN</td>\n",
       "      <td>NaN</td>\n",
       "      <td>NaN</td>\n",
       "      <td>NaN</td>\n",
       "      <td>NaN</td>\n",
       "      <td>NaN</td>\n",
       "      <td>2.931</td>\n",
       "      <td>NaN</td>\n",
       "      <td>NaN</td>\n",
       "    </tr>\n",
       "    <tr>\n",
       "      <th>1</th>\n",
       "      <td>Afghanistan</td>\n",
       "      <td>1851</td>\n",
       "      <td>3769828.0</td>\n",
       "      <td>NaN</td>\n",
       "      <td>NaN</td>\n",
       "      <td>NaN</td>\n",
       "      <td>NaN</td>\n",
       "      <td>NaN</td>\n",
       "      <td>NaN</td>\n",
       "      <td>2.968</td>\n",
       "      <td>NaN</td>\n",
       "      <td>NaN</td>\n",
       "    </tr>\n",
       "    <tr>\n",
       "      <th>2</th>\n",
       "      <td>Afghanistan</td>\n",
       "      <td>1852</td>\n",
       "      <td>3787706.0</td>\n",
       "      <td>NaN</td>\n",
       "      <td>NaN</td>\n",
       "      <td>NaN</td>\n",
       "      <td>NaN</td>\n",
       "      <td>NaN</td>\n",
       "      <td>NaN</td>\n",
       "      <td>2.968</td>\n",
       "      <td>NaN</td>\n",
       "      <td>NaN</td>\n",
       "    </tr>\n",
       "    <tr>\n",
       "      <th>3</th>\n",
       "      <td>Afghanistan</td>\n",
       "      <td>1853</td>\n",
       "      <td>3806634.0</td>\n",
       "      <td>NaN</td>\n",
       "      <td>NaN</td>\n",
       "      <td>NaN</td>\n",
       "      <td>NaN</td>\n",
       "      <td>NaN</td>\n",
       "      <td>NaN</td>\n",
       "      <td>3.004</td>\n",
       "      <td>NaN</td>\n",
       "      <td>NaN</td>\n",
       "    </tr>\n",
       "    <tr>\n",
       "      <th>4</th>\n",
       "      <td>Afghanistan</td>\n",
       "      <td>1854</td>\n",
       "      <td>3825655.0</td>\n",
       "      <td>NaN</td>\n",
       "      <td>NaN</td>\n",
       "      <td>NaN</td>\n",
       "      <td>NaN</td>\n",
       "      <td>NaN</td>\n",
       "      <td>NaN</td>\n",
       "      <td>3.004</td>\n",
       "      <td>NaN</td>\n",
       "      <td>NaN</td>\n",
       "    </tr>\n",
       "  </tbody>\n",
       "</table>\n",
       "</div>"
      ],
      "text/plain": [
       "       country  year  population  gdp  cement_co2  co2  coal_co2  flaring_co2  \\\n",
       "0  Afghanistan  1850   3752993.0  NaN         NaN  NaN       NaN          NaN   \n",
       "1  Afghanistan  1851   3769828.0  NaN         NaN  NaN       NaN          NaN   \n",
       "2  Afghanistan  1852   3787706.0  NaN         NaN  NaN       NaN          NaN   \n",
       "3  Afghanistan  1853   3806634.0  NaN         NaN  NaN       NaN          NaN   \n",
       "4  Afghanistan  1854   3825655.0  NaN         NaN  NaN       NaN          NaN   \n",
       "\n",
       "   gas_co2  land_use_change_co2  oil_co2  other_industry_co2  \n",
       "0      NaN                2.931      NaN                 NaN  \n",
       "1      NaN                2.968      NaN                 NaN  \n",
       "2      NaN                2.968      NaN                 NaN  \n",
       "3      NaN                3.004      NaN                 NaN  \n",
       "4      NaN                3.004      NaN                 NaN  "
      ]
     },
     "execution_count": 8,
     "metadata": {},
     "output_type": "execute_result"
    }
   ],
   "source": [
    "carbon_emission.head()"
   ]
  },
  {
   "cell_type": "markdown",
   "metadata": {},
   "source": [
    "* **Rename columns**\n",
    "\n",
    "Some column names are renamed to improve readabily and comprehension of the dataset."
   ]
  },
  {
   "cell_type": "code",
   "execution_count": 9,
   "metadata": {},
   "outputs": [],
   "source": [
    "carbon_emission = carbon_emission.rename(columns = {\"co2\" : \"total_co2\"})"
   ]
  },
  {
   "cell_type": "code",
   "execution_count": 10,
   "metadata": {},
   "outputs": [
    {
     "data": {
      "text/html": [
       "<div>\n",
       "<style scoped>\n",
       "    .dataframe tbody tr th:only-of-type {\n",
       "        vertical-align: middle;\n",
       "    }\n",
       "\n",
       "    .dataframe tbody tr th {\n",
       "        vertical-align: top;\n",
       "    }\n",
       "\n",
       "    .dataframe thead th {\n",
       "        text-align: right;\n",
       "    }\n",
       "</style>\n",
       "<table border=\"1\" class=\"dataframe\">\n",
       "  <thead>\n",
       "    <tr style=\"text-align: right;\">\n",
       "      <th></th>\n",
       "      <th>country</th>\n",
       "      <th>year</th>\n",
       "      <th>population</th>\n",
       "      <th>gdp</th>\n",
       "      <th>cement_co2</th>\n",
       "      <th>total_co2</th>\n",
       "      <th>coal_co2</th>\n",
       "      <th>flaring_co2</th>\n",
       "      <th>gas_co2</th>\n",
       "      <th>land_use_change_co2</th>\n",
       "      <th>oil_co2</th>\n",
       "      <th>other_industry_co2</th>\n",
       "    </tr>\n",
       "  </thead>\n",
       "  <tbody>\n",
       "    <tr>\n",
       "      <th>0</th>\n",
       "      <td>Afghanistan</td>\n",
       "      <td>1850</td>\n",
       "      <td>3752993.0</td>\n",
       "      <td>NaN</td>\n",
       "      <td>NaN</td>\n",
       "      <td>NaN</td>\n",
       "      <td>NaN</td>\n",
       "      <td>NaN</td>\n",
       "      <td>NaN</td>\n",
       "      <td>2.931</td>\n",
       "      <td>NaN</td>\n",
       "      <td>NaN</td>\n",
       "    </tr>\n",
       "    <tr>\n",
       "      <th>1</th>\n",
       "      <td>Afghanistan</td>\n",
       "      <td>1851</td>\n",
       "      <td>3769828.0</td>\n",
       "      <td>NaN</td>\n",
       "      <td>NaN</td>\n",
       "      <td>NaN</td>\n",
       "      <td>NaN</td>\n",
       "      <td>NaN</td>\n",
       "      <td>NaN</td>\n",
       "      <td>2.968</td>\n",
       "      <td>NaN</td>\n",
       "      <td>NaN</td>\n",
       "    </tr>\n",
       "    <tr>\n",
       "      <th>2</th>\n",
       "      <td>Afghanistan</td>\n",
       "      <td>1852</td>\n",
       "      <td>3787706.0</td>\n",
       "      <td>NaN</td>\n",
       "      <td>NaN</td>\n",
       "      <td>NaN</td>\n",
       "      <td>NaN</td>\n",
       "      <td>NaN</td>\n",
       "      <td>NaN</td>\n",
       "      <td>2.968</td>\n",
       "      <td>NaN</td>\n",
       "      <td>NaN</td>\n",
       "    </tr>\n",
       "    <tr>\n",
       "      <th>3</th>\n",
       "      <td>Afghanistan</td>\n",
       "      <td>1853</td>\n",
       "      <td>3806634.0</td>\n",
       "      <td>NaN</td>\n",
       "      <td>NaN</td>\n",
       "      <td>NaN</td>\n",
       "      <td>NaN</td>\n",
       "      <td>NaN</td>\n",
       "      <td>NaN</td>\n",
       "      <td>3.004</td>\n",
       "      <td>NaN</td>\n",
       "      <td>NaN</td>\n",
       "    </tr>\n",
       "    <tr>\n",
       "      <th>4</th>\n",
       "      <td>Afghanistan</td>\n",
       "      <td>1854</td>\n",
       "      <td>3825655.0</td>\n",
       "      <td>NaN</td>\n",
       "      <td>NaN</td>\n",
       "      <td>NaN</td>\n",
       "      <td>NaN</td>\n",
       "      <td>NaN</td>\n",
       "      <td>NaN</td>\n",
       "      <td>3.004</td>\n",
       "      <td>NaN</td>\n",
       "      <td>NaN</td>\n",
       "    </tr>\n",
       "  </tbody>\n",
       "</table>\n",
       "</div>"
      ],
      "text/plain": [
       "       country  year  population  gdp  cement_co2  total_co2  coal_co2  \\\n",
       "0  Afghanistan  1850   3752993.0  NaN         NaN        NaN       NaN   \n",
       "1  Afghanistan  1851   3769828.0  NaN         NaN        NaN       NaN   \n",
       "2  Afghanistan  1852   3787706.0  NaN         NaN        NaN       NaN   \n",
       "3  Afghanistan  1853   3806634.0  NaN         NaN        NaN       NaN   \n",
       "4  Afghanistan  1854   3825655.0  NaN         NaN        NaN       NaN   \n",
       "\n",
       "   flaring_co2  gas_co2  land_use_change_co2  oil_co2  other_industry_co2  \n",
       "0          NaN      NaN                2.931      NaN                 NaN  \n",
       "1          NaN      NaN                2.968      NaN                 NaN  \n",
       "2          NaN      NaN                2.968      NaN                 NaN  \n",
       "3          NaN      NaN                3.004      NaN                 NaN  \n",
       "4          NaN      NaN                3.004      NaN                 NaN  "
      ]
     },
     "execution_count": 10,
     "metadata": {},
     "output_type": "execute_result"
    }
   ],
   "source": [
    "carbon_emission.head()"
   ]
  },
  {
   "cell_type": "markdown",
   "metadata": {},
   "source": [
    "* **Filter data from the last 50 years**\n",
    "\n",
    "This study focuses on carbon dioxide emissions over the last 50 years, so the dataset will be filtered to obtain only data from 1971 to 2021, as 2021 is the last year of the current dataset."
   ]
  },
  {
   "cell_type": "code",
   "execution_count": 11,
   "metadata": {},
   "outputs": [
    {
     "data": {
      "text/plain": [
       "np.int64(1750)"
      ]
     },
     "execution_count": 11,
     "metadata": {},
     "output_type": "execute_result"
    }
   ],
   "source": [
    "# Select the first year of the dataset\n",
    "carbon_emission.year.min()"
   ]
  },
  {
   "cell_type": "code",
   "execution_count": 12,
   "metadata": {},
   "outputs": [],
   "source": [
    "# Filter the dataset by year and reset the index\n",
    "carbon_emission = carbon_emission[(carbon_emission[\"year\"] >= 1971)].reset_index(drop = True)"
   ]
  },
  {
   "cell_type": "code",
   "execution_count": 13,
   "metadata": {},
   "outputs": [
    {
     "data": {
      "text/html": [
       "<div>\n",
       "<style scoped>\n",
       "    .dataframe tbody tr th:only-of-type {\n",
       "        vertical-align: middle;\n",
       "    }\n",
       "\n",
       "    .dataframe tbody tr th {\n",
       "        vertical-align: top;\n",
       "    }\n",
       "\n",
       "    .dataframe thead th {\n",
       "        text-align: right;\n",
       "    }\n",
       "</style>\n",
       "<table border=\"1\" class=\"dataframe\">\n",
       "  <thead>\n",
       "    <tr style=\"text-align: right;\">\n",
       "      <th></th>\n",
       "      <th>country</th>\n",
       "      <th>year</th>\n",
       "      <th>population</th>\n",
       "      <th>gdp</th>\n",
       "      <th>cement_co2</th>\n",
       "      <th>total_co2</th>\n",
       "      <th>coal_co2</th>\n",
       "      <th>flaring_co2</th>\n",
       "      <th>gas_co2</th>\n",
       "      <th>land_use_change_co2</th>\n",
       "      <th>oil_co2</th>\n",
       "      <th>other_industry_co2</th>\n",
       "    </tr>\n",
       "  </thead>\n",
       "  <tbody>\n",
       "    <tr>\n",
       "      <th>0</th>\n",
       "      <td>Afghanistan</td>\n",
       "      <td>1971</td>\n",
       "      <td>11015853.0</td>\n",
       "      <td>1.577051e+10</td>\n",
       "      <td>0.043</td>\n",
       "      <td>1.894</td>\n",
       "      <td>0.359</td>\n",
       "      <td>0.304</td>\n",
       "      <td>0.440</td>\n",
       "      <td>6.265</td>\n",
       "      <td>0.747</td>\n",
       "      <td>NaN</td>\n",
       "    </tr>\n",
       "    <tr>\n",
       "      <th>1</th>\n",
       "      <td>Afghanistan</td>\n",
       "      <td>1972</td>\n",
       "      <td>11286753.0</td>\n",
       "      <td>1.317055e+10</td>\n",
       "      <td>0.046</td>\n",
       "      <td>1.530</td>\n",
       "      <td>0.191</td>\n",
       "      <td>0.366</td>\n",
       "      <td>0.300</td>\n",
       "      <td>6.046</td>\n",
       "      <td>0.627</td>\n",
       "      <td>NaN</td>\n",
       "    </tr>\n",
       "    <tr>\n",
       "      <th>2</th>\n",
       "      <td>Afghanistan</td>\n",
       "      <td>1973</td>\n",
       "      <td>11575308.0</td>\n",
       "      <td>1.356863e+10</td>\n",
       "      <td>0.067</td>\n",
       "      <td>1.635</td>\n",
       "      <td>0.311</td>\n",
       "      <td>0.223</td>\n",
       "      <td>0.333</td>\n",
       "      <td>4.983</td>\n",
       "      <td>0.702</td>\n",
       "      <td>NaN</td>\n",
       "    </tr>\n",
       "    <tr>\n",
       "      <th>3</th>\n",
       "      <td>Afghanistan</td>\n",
       "      <td>1974</td>\n",
       "      <td>11869881.0</td>\n",
       "      <td>1.430911e+10</td>\n",
       "      <td>0.070</td>\n",
       "      <td>1.913</td>\n",
       "      <td>0.305</td>\n",
       "      <td>0.367</td>\n",
       "      <td>0.400</td>\n",
       "      <td>4.617</td>\n",
       "      <td>0.771</td>\n",
       "      <td>NaN</td>\n",
       "    </tr>\n",
       "    <tr>\n",
       "      <th>4</th>\n",
       "      <td>Afghanistan</td>\n",
       "      <td>1975</td>\n",
       "      <td>12157390.0</td>\n",
       "      <td>1.517777e+10</td>\n",
       "      <td>0.069</td>\n",
       "      <td>2.121</td>\n",
       "      <td>0.399</td>\n",
       "      <td>0.304</td>\n",
       "      <td>0.475</td>\n",
       "      <td>4.140</td>\n",
       "      <td>0.874</td>\n",
       "      <td>NaN</td>\n",
       "    </tr>\n",
       "  </tbody>\n",
       "</table>\n",
       "</div>"
      ],
      "text/plain": [
       "       country  year  population           gdp  cement_co2  total_co2  \\\n",
       "0  Afghanistan  1971  11015853.0  1.577051e+10       0.043      1.894   \n",
       "1  Afghanistan  1972  11286753.0  1.317055e+10       0.046      1.530   \n",
       "2  Afghanistan  1973  11575308.0  1.356863e+10       0.067      1.635   \n",
       "3  Afghanistan  1974  11869881.0  1.430911e+10       0.070      1.913   \n",
       "4  Afghanistan  1975  12157390.0  1.517777e+10       0.069      2.121   \n",
       "\n",
       "   coal_co2  flaring_co2  gas_co2  land_use_change_co2  oil_co2  \\\n",
       "0     0.359        0.304    0.440                6.265    0.747   \n",
       "1     0.191        0.366    0.300                6.046    0.627   \n",
       "2     0.311        0.223    0.333                4.983    0.702   \n",
       "3     0.305        0.367    0.400                4.617    0.771   \n",
       "4     0.399        0.304    0.475                4.140    0.874   \n",
       "\n",
       "   other_industry_co2  \n",
       "0                 NaN  \n",
       "1                 NaN  \n",
       "2                 NaN  \n",
       "3                 NaN  \n",
       "4                 NaN  "
      ]
     },
     "execution_count": 13,
     "metadata": {},
     "output_type": "execute_result"
    }
   ],
   "source": [
    "carbon_emission.head()"
   ]
  },
  {
   "cell_type": "markdown",
   "metadata": {},
   "source": [
    "* **Data types**\n",
    "\n",
    "Verify that all columns or features have the correct data type."
   ]
  },
  {
   "cell_type": "code",
   "execution_count": 14,
   "metadata": {},
   "outputs": [
    {
     "data": {
      "text/plain": [
       "country                 object\n",
       "year                     int64\n",
       "population             float64\n",
       "gdp                    float64\n",
       "cement_co2             float64\n",
       "total_co2              float64\n",
       "coal_co2               float64\n",
       "flaring_co2            float64\n",
       "gas_co2                float64\n",
       "land_use_change_co2    float64\n",
       "oil_co2                float64\n",
       "other_industry_co2     float64\n",
       "dtype: object"
      ]
     },
     "execution_count": 14,
     "metadata": {},
     "output_type": "execute_result"
    }
   ],
   "source": [
    "carbon_emission.dtypes"
   ]
  },
  {
   "cell_type": "markdown",
   "metadata": {},
   "source": [
    "The “year” column is of integer type instead of datetime. However, since only the year is needed, not the full date, the data type will remain integer."
   ]
  },
  {
   "cell_type": "markdown",
   "metadata": {},
   "source": [
    "* **Null values**\n",
    "\n",
    "Remove missing values, zero values, or NaN values from the dataset.\n",
    "\n",
    "A quick glance at the descriptive statistics of the dataset indicates that 25% of the values of 5 features are zero, and 50% of the values in the flaring_co2 column are zero. "
   ]
  },
  {
   "cell_type": "code",
   "execution_count": 15,
   "metadata": {},
   "outputs": [
    {
     "data": {
      "text/html": [
       "<div>\n",
       "<style scoped>\n",
       "    .dataframe tbody tr th:only-of-type {\n",
       "        vertical-align: middle;\n",
       "    }\n",
       "\n",
       "    .dataframe tbody tr th {\n",
       "        vertical-align: top;\n",
       "    }\n",
       "\n",
       "    .dataframe thead th {\n",
       "        text-align: right;\n",
       "    }\n",
       "</style>\n",
       "<table border=\"1\" class=\"dataframe\">\n",
       "  <thead>\n",
       "    <tr style=\"text-align: right;\">\n",
       "      <th></th>\n",
       "      <th>count</th>\n",
       "      <th>mean</th>\n",
       "      <th>std</th>\n",
       "      <th>min</th>\n",
       "      <th>25%</th>\n",
       "      <th>50%</th>\n",
       "      <th>75%</th>\n",
       "      <th>max</th>\n",
       "    </tr>\n",
       "  </thead>\n",
       "  <tbody>\n",
       "    <tr>\n",
       "      <th>year</th>\n",
       "      <td>13193.0</td>\n",
       "      <td>1.996076e+03</td>\n",
       "      <td>1.471396e+01</td>\n",
       "      <td>1.971000e+03</td>\n",
       "      <td>1.983000e+03</td>\n",
       "      <td>1.996000e+03</td>\n",
       "      <td>2.009000e+03</td>\n",
       "      <td>2.021000e+03</td>\n",
       "    </tr>\n",
       "    <tr>\n",
       "      <th>population</th>\n",
       "      <td>12106.0</td>\n",
       "      <td>9.789166e+07</td>\n",
       "      <td>5.093085e+08</td>\n",
       "      <td>1.833000e+03</td>\n",
       "      <td>4.383258e+05</td>\n",
       "      <td>4.798528e+06</td>\n",
       "      <td>1.871719e+07</td>\n",
       "      <td>7.909295e+09</td>\n",
       "    </tr>\n",
       "    <tr>\n",
       "      <th>gdp</th>\n",
       "      <td>7780.0</td>\n",
       "      <td>4.231507e+11</td>\n",
       "      <td>2.840284e+12</td>\n",
       "      <td>1.120380e+08</td>\n",
       "      <td>1.307095e+10</td>\n",
       "      <td>4.261061e+10</td>\n",
       "      <td>2.004345e+11</td>\n",
       "      <td>1.136302e+14</td>\n",
       "    </tr>\n",
       "    <tr>\n",
       "      <th>cement_co2</th>\n",
       "      <td>11635.0</td>\n",
       "      <td>1.610971e+01</td>\n",
       "      <td>9.100006e+01</td>\n",
       "      <td>0.000000e+00</td>\n",
       "      <td>0.000000e+00</td>\n",
       "      <td>3.090000e-01</td>\n",
       "      <td>2.317000e+00</td>\n",
       "      <td>1.672592e+03</td>\n",
       "    </tr>\n",
       "    <tr>\n",
       "      <th>total_co2</th>\n",
       "      <td>12419.0</td>\n",
       "      <td>7.130162e+02</td>\n",
       "      <td>2.698844e+03</td>\n",
       "      <td>0.000000e+00</td>\n",
       "      <td>9.135000e-01</td>\n",
       "      <td>9.687000e+00</td>\n",
       "      <td>1.050105e+02</td>\n",
       "      <td>3.712385e+04</td>\n",
       "    </tr>\n",
       "    <tr>\n",
       "      <th>coal_co2</th>\n",
       "      <td>11747.0</td>\n",
       "      <td>1.995345e+02</td>\n",
       "      <td>9.958156e+02</td>\n",
       "      <td>0.000000e+00</td>\n",
       "      <td>0.000000e+00</td>\n",
       "      <td>1.210000e-01</td>\n",
       "      <td>1.188000e+01</td>\n",
       "      <td>1.505151e+04</td>\n",
       "    </tr>\n",
       "    <tr>\n",
       "      <th>flaring_co2</th>\n",
       "      <td>11747.0</td>\n",
       "      <td>6.401901e+00</td>\n",
       "      <td>2.792217e+01</td>\n",
       "      <td>0.000000e+00</td>\n",
       "      <td>0.000000e+00</td>\n",
       "      <td>0.000000e+00</td>\n",
       "      <td>5.555000e-01</td>\n",
       "      <td>4.392540e+02</td>\n",
       "    </tr>\n",
       "    <tr>\n",
       "      <th>gas_co2</th>\n",
       "      <td>11747.0</td>\n",
       "      <td>9.719472e+01</td>\n",
       "      <td>4.398783e+02</td>\n",
       "      <td>0.000000e+00</td>\n",
       "      <td>0.000000e+00</td>\n",
       "      <td>2.900000e-02</td>\n",
       "      <td>1.158850e+01</td>\n",
       "      <td>7.921830e+03</td>\n",
       "    </tr>\n",
       "    <tr>\n",
       "      <th>land_use_change_co2</th>\n",
       "      <td>11679.0</td>\n",
       "      <td>1.125068e+02</td>\n",
       "      <td>4.970239e+02</td>\n",
       "      <td>-3.238610e+02</td>\n",
       "      <td>0.000000e+00</td>\n",
       "      <td>1.319000e+00</td>\n",
       "      <td>1.934600e+01</td>\n",
       "      <td>7.104862e+03</td>\n",
       "    </tr>\n",
       "    <tr>\n",
       "      <th>oil_co2</th>\n",
       "      <td>11798.0</td>\n",
       "      <td>1.977634e+02</td>\n",
       "      <td>8.697925e+02</td>\n",
       "      <td>0.000000e+00</td>\n",
       "      <td>6.717500e-01</td>\n",
       "      <td>4.314500e+00</td>\n",
       "      <td>3.343125e+01</td>\n",
       "      <td>1.234565e+04</td>\n",
       "    </tr>\n",
       "    <tr>\n",
       "      <th>other_industry_co2</th>\n",
       "      <td>2085.0</td>\n",
       "      <td>1.998871e+01</td>\n",
       "      <td>4.446618e+01</td>\n",
       "      <td>0.000000e+00</td>\n",
       "      <td>6.810000e-01</td>\n",
       "      <td>3.000000e+00</td>\n",
       "      <td>1.408300e+01</td>\n",
       "      <td>3.066390e+02</td>\n",
       "    </tr>\n",
       "  </tbody>\n",
       "</table>\n",
       "</div>"
      ],
      "text/plain": [
       "                       count          mean           std           min  \\\n",
       "year                 13193.0  1.996076e+03  1.471396e+01  1.971000e+03   \n",
       "population           12106.0  9.789166e+07  5.093085e+08  1.833000e+03   \n",
       "gdp                   7780.0  4.231507e+11  2.840284e+12  1.120380e+08   \n",
       "cement_co2           11635.0  1.610971e+01  9.100006e+01  0.000000e+00   \n",
       "total_co2            12419.0  7.130162e+02  2.698844e+03  0.000000e+00   \n",
       "coal_co2             11747.0  1.995345e+02  9.958156e+02  0.000000e+00   \n",
       "flaring_co2          11747.0  6.401901e+00  2.792217e+01  0.000000e+00   \n",
       "gas_co2              11747.0  9.719472e+01  4.398783e+02  0.000000e+00   \n",
       "land_use_change_co2  11679.0  1.125068e+02  4.970239e+02 -3.238610e+02   \n",
       "oil_co2              11798.0  1.977634e+02  8.697925e+02  0.000000e+00   \n",
       "other_industry_co2    2085.0  1.998871e+01  4.446618e+01  0.000000e+00   \n",
       "\n",
       "                              25%           50%           75%           max  \n",
       "year                 1.983000e+03  1.996000e+03  2.009000e+03  2.021000e+03  \n",
       "population           4.383258e+05  4.798528e+06  1.871719e+07  7.909295e+09  \n",
       "gdp                  1.307095e+10  4.261061e+10  2.004345e+11  1.136302e+14  \n",
       "cement_co2           0.000000e+00  3.090000e-01  2.317000e+00  1.672592e+03  \n",
       "total_co2            9.135000e-01  9.687000e+00  1.050105e+02  3.712385e+04  \n",
       "coal_co2             0.000000e+00  1.210000e-01  1.188000e+01  1.505151e+04  \n",
       "flaring_co2          0.000000e+00  0.000000e+00  5.555000e-01  4.392540e+02  \n",
       "gas_co2              0.000000e+00  2.900000e-02  1.158850e+01  7.921830e+03  \n",
       "land_use_change_co2  0.000000e+00  1.319000e+00  1.934600e+01  7.104862e+03  \n",
       "oil_co2              6.717500e-01  4.314500e+00  3.343125e+01  1.234565e+04  \n",
       "other_industry_co2   6.810000e-01  3.000000e+00  1.408300e+01  3.066390e+02  "
      ]
     },
     "execution_count": 15,
     "metadata": {},
     "output_type": "execute_result"
    }
   ],
   "source": [
    "carbon_emission.describe().T"
   ]
  },
  {
   "cell_type": "code",
   "execution_count": 16,
   "metadata": {},
   "outputs": [
    {
     "data": {
      "text/plain": [
       "country                    0\n",
       "year                       0\n",
       "population              1087\n",
       "gdp                     5413\n",
       "cement_co2              1558\n",
       "total_co2                774\n",
       "coal_co2                1446\n",
       "flaring_co2             1446\n",
       "gas_co2                 1446\n",
       "land_use_change_co2     1514\n",
       "oil_co2                 1395\n",
       "other_industry_co2     11108\n",
       "dtype: int64"
      ]
     },
     "execution_count": 16,
     "metadata": {},
     "output_type": "execute_result"
    }
   ],
   "source": [
    "# Check the total of null values in each column\n",
    "carbon_emission.isnull().sum()"
   ]
  },
  {
   "cell_type": "markdown",
   "metadata": {},
   "source": [
    "To deal with these null values, interpolation will be used. This method is chosen because it allows the time series of the data frame to be maintained by imputing interpolated values from the dataset."
   ]
  },
  {
   "cell_type": "code",
   "execution_count": 17,
   "metadata": {},
   "outputs": [],
   "source": [
    "# Replace all nan values into null values\n",
    "carbon_emission = carbon_emission.replace(np.nan, 0)"
   ]
  },
  {
   "cell_type": "code",
   "execution_count": 18,
   "metadata": {},
   "outputs": [],
   "source": [
    "# Interpolate all the null values\n",
    "carbon_emission = carbon_emission.infer_objects(copy = False)"
   ]
  },
  {
   "cell_type": "code",
   "execution_count": 19,
   "metadata": {},
   "outputs": [
    {
     "data": {
      "text/plain": [
       "country                0\n",
       "year                   0\n",
       "population             0\n",
       "gdp                    0\n",
       "cement_co2             0\n",
       "total_co2              0\n",
       "coal_co2               0\n",
       "flaring_co2            0\n",
       "gas_co2                0\n",
       "land_use_change_co2    0\n",
       "oil_co2                0\n",
       "other_industry_co2     0\n",
       "dtype: int64"
      ]
     },
     "execution_count": 19,
     "metadata": {},
     "output_type": "execute_result"
    }
   ],
   "source": [
    "# Check for null values after interpolation\n",
    "carbon_emission.isnull().sum()"
   ]
  },
  {
   "cell_type": "code",
   "execution_count": 20,
   "metadata": {},
   "outputs": [
    {
     "data": {
      "text/html": [
       "<div>\n",
       "<style scoped>\n",
       "    .dataframe tbody tr th:only-of-type {\n",
       "        vertical-align: middle;\n",
       "    }\n",
       "\n",
       "    .dataframe tbody tr th {\n",
       "        vertical-align: top;\n",
       "    }\n",
       "\n",
       "    .dataframe thead th {\n",
       "        text-align: right;\n",
       "    }\n",
       "</style>\n",
       "<table border=\"1\" class=\"dataframe\">\n",
       "  <thead>\n",
       "    <tr style=\"text-align: right;\">\n",
       "      <th></th>\n",
       "      <th>country</th>\n",
       "      <th>year</th>\n",
       "      <th>population</th>\n",
       "      <th>gdp</th>\n",
       "      <th>cement_co2</th>\n",
       "      <th>total_co2</th>\n",
       "      <th>coal_co2</th>\n",
       "      <th>flaring_co2</th>\n",
       "      <th>gas_co2</th>\n",
       "      <th>land_use_change_co2</th>\n",
       "      <th>oil_co2</th>\n",
       "      <th>other_industry_co2</th>\n",
       "    </tr>\n",
       "  </thead>\n",
       "  <tbody>\n",
       "    <tr>\n",
       "      <th>0</th>\n",
       "      <td>Afghanistan</td>\n",
       "      <td>1971</td>\n",
       "      <td>11015853.0</td>\n",
       "      <td>1.577051e+10</td>\n",
       "      <td>0.043</td>\n",
       "      <td>1.894</td>\n",
       "      <td>0.359</td>\n",
       "      <td>0.304</td>\n",
       "      <td>0.440</td>\n",
       "      <td>6.265</td>\n",
       "      <td>0.747</td>\n",
       "      <td>0.0</td>\n",
       "    </tr>\n",
       "    <tr>\n",
       "      <th>1</th>\n",
       "      <td>Afghanistan</td>\n",
       "      <td>1972</td>\n",
       "      <td>11286753.0</td>\n",
       "      <td>1.317055e+10</td>\n",
       "      <td>0.046</td>\n",
       "      <td>1.530</td>\n",
       "      <td>0.191</td>\n",
       "      <td>0.366</td>\n",
       "      <td>0.300</td>\n",
       "      <td>6.046</td>\n",
       "      <td>0.627</td>\n",
       "      <td>0.0</td>\n",
       "    </tr>\n",
       "    <tr>\n",
       "      <th>2</th>\n",
       "      <td>Afghanistan</td>\n",
       "      <td>1973</td>\n",
       "      <td>11575308.0</td>\n",
       "      <td>1.356863e+10</td>\n",
       "      <td>0.067</td>\n",
       "      <td>1.635</td>\n",
       "      <td>0.311</td>\n",
       "      <td>0.223</td>\n",
       "      <td>0.333</td>\n",
       "      <td>4.983</td>\n",
       "      <td>0.702</td>\n",
       "      <td>0.0</td>\n",
       "    </tr>\n",
       "    <tr>\n",
       "      <th>3</th>\n",
       "      <td>Afghanistan</td>\n",
       "      <td>1974</td>\n",
       "      <td>11869881.0</td>\n",
       "      <td>1.430911e+10</td>\n",
       "      <td>0.070</td>\n",
       "      <td>1.913</td>\n",
       "      <td>0.305</td>\n",
       "      <td>0.367</td>\n",
       "      <td>0.400</td>\n",
       "      <td>4.617</td>\n",
       "      <td>0.771</td>\n",
       "      <td>0.0</td>\n",
       "    </tr>\n",
       "    <tr>\n",
       "      <th>4</th>\n",
       "      <td>Afghanistan</td>\n",
       "      <td>1975</td>\n",
       "      <td>12157390.0</td>\n",
       "      <td>1.517777e+10</td>\n",
       "      <td>0.069</td>\n",
       "      <td>2.121</td>\n",
       "      <td>0.399</td>\n",
       "      <td>0.304</td>\n",
       "      <td>0.475</td>\n",
       "      <td>4.140</td>\n",
       "      <td>0.874</td>\n",
       "      <td>0.0</td>\n",
       "    </tr>\n",
       "  </tbody>\n",
       "</table>\n",
       "</div>"
      ],
      "text/plain": [
       "       country  year  population           gdp  cement_co2  total_co2  \\\n",
       "0  Afghanistan  1971  11015853.0  1.577051e+10       0.043      1.894   \n",
       "1  Afghanistan  1972  11286753.0  1.317055e+10       0.046      1.530   \n",
       "2  Afghanistan  1973  11575308.0  1.356863e+10       0.067      1.635   \n",
       "3  Afghanistan  1974  11869881.0  1.430911e+10       0.070      1.913   \n",
       "4  Afghanistan  1975  12157390.0  1.517777e+10       0.069      2.121   \n",
       "\n",
       "   coal_co2  flaring_co2  gas_co2  land_use_change_co2  oil_co2  \\\n",
       "0     0.359        0.304    0.440                6.265    0.747   \n",
       "1     0.191        0.366    0.300                6.046    0.627   \n",
       "2     0.311        0.223    0.333                4.983    0.702   \n",
       "3     0.305        0.367    0.400                4.617    0.771   \n",
       "4     0.399        0.304    0.475                4.140    0.874   \n",
       "\n",
       "   other_industry_co2  \n",
       "0                 0.0  \n",
       "1                 0.0  \n",
       "2                 0.0  \n",
       "3                 0.0  \n",
       "4                 0.0  "
      ]
     },
     "execution_count": 20,
     "metadata": {},
     "output_type": "execute_result"
    }
   ],
   "source": [
    "carbon_emission.head()"
   ]
  },
  {
   "cell_type": "markdown",
   "metadata": {},
   "source": [
    "* **Duplicated values**\n",
    "\n",
    "Check if there are any duplicated data in the dataset."
   ]
  },
  {
   "cell_type": "code",
   "execution_count": 21,
   "metadata": {},
   "outputs": [
    {
     "data": {
      "text/plain": [
       "np.int64(0)"
      ]
     },
     "execution_count": 21,
     "metadata": {},
     "output_type": "execute_result"
    }
   ],
   "source": [
    "carbon_emission.duplicated().sum()"
   ]
  },
  {
   "cell_type": "markdown",
   "metadata": {},
   "source": [
    "* **Create a new DataFrame with continent information**\n",
    "\n",
    "Data from continents and countries are mixed in the “country” column. Therefore, to extract information on emissions from the different continents, a new data frame is created with data from each continent."
   ]
  },
  {
   "cell_type": "code",
   "execution_count": 22,
   "metadata": {},
   "outputs": [
    {
     "data": {
      "text/html": [
       "<div>\n",
       "<style scoped>\n",
       "    .dataframe tbody tr th:only-of-type {\n",
       "        vertical-align: middle;\n",
       "    }\n",
       "\n",
       "    .dataframe tbody tr th {\n",
       "        vertical-align: top;\n",
       "    }\n",
       "\n",
       "    .dataframe thead th {\n",
       "        text-align: right;\n",
       "    }\n",
       "</style>\n",
       "<table border=\"1\" class=\"dataframe\">\n",
       "  <thead>\n",
       "    <tr style=\"text-align: right;\">\n",
       "      <th></th>\n",
       "      <th>continent</th>\n",
       "      <th>year</th>\n",
       "      <th>population</th>\n",
       "      <th>cement_co2</th>\n",
       "      <th>total_co2</th>\n",
       "      <th>coal_co2</th>\n",
       "      <th>flaring_co2</th>\n",
       "      <th>gas_co2</th>\n",
       "      <th>land_use_change_co2</th>\n",
       "      <th>oil_co2</th>\n",
       "      <th>other_industry_co2</th>\n",
       "    </tr>\n",
       "  </thead>\n",
       "  <tbody>\n",
       "    <tr>\n",
       "      <th>51</th>\n",
       "      <td>Africa</td>\n",
       "      <td>1971</td>\n",
       "      <td>375086296.0</td>\n",
       "      <td>9.243</td>\n",
       "      <td>332.204</td>\n",
       "      <td>149.906</td>\n",
       "      <td>55.976</td>\n",
       "      <td>1.693</td>\n",
       "      <td>959.162</td>\n",
       "      <td>115.386</td>\n",
       "      <td>0.0</td>\n",
       "    </tr>\n",
       "    <tr>\n",
       "      <th>52</th>\n",
       "      <td>Africa</td>\n",
       "      <td>1972</td>\n",
       "      <td>384930776.0</td>\n",
       "      <td>9.762</td>\n",
       "      <td>352.239</td>\n",
       "      <td>153.924</td>\n",
       "      <td>64.650</td>\n",
       "      <td>4.414</td>\n",
       "      <td>1141.446</td>\n",
       "      <td>119.489</td>\n",
       "      <td>0.0</td>\n",
       "    </tr>\n",
       "    <tr>\n",
       "      <th>53</th>\n",
       "      <td>Africa</td>\n",
       "      <td>1973</td>\n",
       "      <td>395212420.0</td>\n",
       "      <td>10.328</td>\n",
       "      <td>378.421</td>\n",
       "      <td>154.291</td>\n",
       "      <td>80.006</td>\n",
       "      <td>5.360</td>\n",
       "      <td>900.868</td>\n",
       "      <td>128.435</td>\n",
       "      <td>0.0</td>\n",
       "    </tr>\n",
       "    <tr>\n",
       "      <th>54</th>\n",
       "      <td>Africa</td>\n",
       "      <td>1974</td>\n",
       "      <td>406069208.0</td>\n",
       "      <td>10.803</td>\n",
       "      <td>388.865</td>\n",
       "      <td>157.241</td>\n",
       "      <td>81.362</td>\n",
       "      <td>5.111</td>\n",
       "      <td>891.341</td>\n",
       "      <td>134.347</td>\n",
       "      <td>0.0</td>\n",
       "    </tr>\n",
       "    <tr>\n",
       "      <th>55</th>\n",
       "      <td>Africa</td>\n",
       "      <td>1975</td>\n",
       "      <td>417556976.0</td>\n",
       "      <td>10.928</td>\n",
       "      <td>387.829</td>\n",
       "      <td>162.187</td>\n",
       "      <td>64.309</td>\n",
       "      <td>6.422</td>\n",
       "      <td>884.893</td>\n",
       "      <td>143.982</td>\n",
       "      <td>0.0</td>\n",
       "    </tr>\n",
       "  </tbody>\n",
       "</table>\n",
       "</div>"
      ],
      "text/plain": [
       "   continent  year   population  cement_co2  total_co2  coal_co2  flaring_co2  \\\n",
       "51    Africa  1971  375086296.0       9.243    332.204   149.906       55.976   \n",
       "52    Africa  1972  384930776.0       9.762    352.239   153.924       64.650   \n",
       "53    Africa  1973  395212420.0      10.328    378.421   154.291       80.006   \n",
       "54    Africa  1974  406069208.0      10.803    388.865   157.241       81.362   \n",
       "55    Africa  1975  417556976.0      10.928    387.829   162.187       64.309   \n",
       "\n",
       "    gas_co2  land_use_change_co2  oil_co2  other_industry_co2  \n",
       "51    1.693              959.162  115.386                 0.0  \n",
       "52    4.414             1141.446  119.489                 0.0  \n",
       "53    5.360              900.868  128.435                 0.0  \n",
       "54    5.111              891.341  134.347                 0.0  \n",
       "55    6.422              884.893  143.982                 0.0  "
      ]
     },
     "execution_count": 22,
     "metadata": {},
     "output_type": "execute_result"
    }
   ],
   "source": [
    "continents = [\"Africa\", \"Antarctica\", \"Asia\", \"Europe\", \"North America\", \"Oceania\", \"South America\"]\n",
    "emissions_continents = carbon_emission.loc[carbon_emission.country.isin(continents)]\n",
    "emissions_continents = emissions_continents.drop(columns = [\"gdp\"])\n",
    "emissions_continents = emissions_continents.rename(columns = {\"country\" : \"continent\"})\n",
    "\n",
    "emissions_continents.head()"
   ]
  },
  {
   "cell_type": "code",
   "execution_count": 23,
   "metadata": {},
   "outputs": [
    {
     "data": {
      "text/html": [
       "<div>\n",
       "<style scoped>\n",
       "    .dataframe tbody tr th:only-of-type {\n",
       "        vertical-align: middle;\n",
       "    }\n",
       "\n",
       "    .dataframe tbody tr th {\n",
       "        vertical-align: top;\n",
       "    }\n",
       "\n",
       "    .dataframe thead th {\n",
       "        text-align: right;\n",
       "    }\n",
       "</style>\n",
       "<table border=\"1\" class=\"dataframe\">\n",
       "  <thead>\n",
       "    <tr style=\"text-align: right;\">\n",
       "      <th></th>\n",
       "      <th>count</th>\n",
       "      <th>mean</th>\n",
       "      <th>std</th>\n",
       "      <th>min</th>\n",
       "      <th>25%</th>\n",
       "      <th>50%</th>\n",
       "      <th>75%</th>\n",
       "      <th>max</th>\n",
       "    </tr>\n",
       "  </thead>\n",
       "  <tbody>\n",
       "    <tr>\n",
       "      <th>year</th>\n",
       "      <td>327.0</td>\n",
       "      <td>1.996064e+03</td>\n",
       "      <td>1.434561e+01</td>\n",
       "      <td>1971.000</td>\n",
       "      <td>1.984000e+03</td>\n",
       "      <td>1.996000e+03</td>\n",
       "      <td>2.008000e+03</td>\n",
       "      <td>2.021000e+03</td>\n",
       "    </tr>\n",
       "    <tr>\n",
       "      <th>population</th>\n",
       "      <td>327.0</td>\n",
       "      <td>9.070405e+08</td>\n",
       "      <td>1.190509e+09</td>\n",
       "      <td>0.000</td>\n",
       "      <td>2.444977e+08</td>\n",
       "      <td>4.923192e+08</td>\n",
       "      <td>7.439085e+08</td>\n",
       "      <td>4.693332e+09</td>\n",
       "    </tr>\n",
       "    <tr>\n",
       "      <th>cement_co2</th>\n",
       "      <td>327.0</td>\n",
       "      <td>1.247931e+02</td>\n",
       "      <td>2.458153e+02</td>\n",
       "      <td>0.000</td>\n",
       "      <td>1.315750e+01</td>\n",
       "      <td>4.840100e+01</td>\n",
       "      <td>1.151990e+02</td>\n",
       "      <td>1.358534e+03</td>\n",
       "    </tr>\n",
       "    <tr>\n",
       "      <th>total_co2</th>\n",
       "      <td>327.0</td>\n",
       "      <td>3.898526e+03</td>\n",
       "      <td>4.460648e+03</td>\n",
       "      <td>0.004</td>\n",
       "      <td>4.576025e+02</td>\n",
       "      <td>1.251306e+03</td>\n",
       "      <td>6.428630e+03</td>\n",
       "      <td>2.168899e+04</td>\n",
       "    </tr>\n",
       "    <tr>\n",
       "      <th>coal_co2</th>\n",
       "      <td>327.0</td>\n",
       "      <td>1.558270e+03</td>\n",
       "      <td>2.305254e+03</td>\n",
       "      <td>0.000</td>\n",
       "      <td>1.251180e+02</td>\n",
       "      <td>4.237800e+02</td>\n",
       "      <td>2.040023e+03</td>\n",
       "      <td>1.195901e+04</td>\n",
       "    </tr>\n",
       "    <tr>\n",
       "      <th>flaring_co2</th>\n",
       "      <td>327.0</td>\n",
       "      <td>4.863087e+01</td>\n",
       "      <td>4.228868e+01</td>\n",
       "      <td>0.000</td>\n",
       "      <td>1.816650e+01</td>\n",
       "      <td>4.051400e+01</td>\n",
       "      <td>6.913000e+01</td>\n",
       "      <td>2.303750e+02</td>\n",
       "    </tr>\n",
       "    <tr>\n",
       "      <th>gas_co2</th>\n",
       "      <td>327.0</td>\n",
       "      <td>7.038774e+02</td>\n",
       "      <td>7.849246e+02</td>\n",
       "      <td>0.000</td>\n",
       "      <td>6.404900e+01</td>\n",
       "      <td>2.390980e+02</td>\n",
       "      <td>1.358621e+03</td>\n",
       "      <td>3.242854e+03</td>\n",
       "    </tr>\n",
       "    <tr>\n",
       "      <th>land_use_change_co2</th>\n",
       "      <td>327.0</td>\n",
       "      <td>9.832504e+02</td>\n",
       "      <td>9.661938e+02</td>\n",
       "      <td>-323.861</td>\n",
       "      <td>1.391950e+02</td>\n",
       "      <td>7.241160e+02</td>\n",
       "      <td>1.716382e+03</td>\n",
       "      <td>4.117860e+03</td>\n",
       "    </tr>\n",
       "    <tr>\n",
       "      <th>oil_co2</th>\n",
       "      <td>327.0</td>\n",
       "      <td>1.435097e+03</td>\n",
       "      <td>1.353463e+03</td>\n",
       "      <td>0.004</td>\n",
       "      <td>2.063435e+02</td>\n",
       "      <td>6.074600e+02</td>\n",
       "      <td>2.760164e+03</td>\n",
       "      <td>4.806574e+03</td>\n",
       "    </tr>\n",
       "    <tr>\n",
       "      <th>other_industry_co2</th>\n",
       "      <td>327.0</td>\n",
       "      <td>2.785869e+01</td>\n",
       "      <td>4.563874e+01</td>\n",
       "      <td>0.000</td>\n",
       "      <td>0.000000e+00</td>\n",
       "      <td>4.647000e+00</td>\n",
       "      <td>3.426750e+01</td>\n",
       "      <td>2.060510e+02</td>\n",
       "    </tr>\n",
       "  </tbody>\n",
       "</table>\n",
       "</div>"
      ],
      "text/plain": [
       "                     count          mean           std       min  \\\n",
       "year                 327.0  1.996064e+03  1.434561e+01  1971.000   \n",
       "population           327.0  9.070405e+08  1.190509e+09     0.000   \n",
       "cement_co2           327.0  1.247931e+02  2.458153e+02     0.000   \n",
       "total_co2            327.0  3.898526e+03  4.460648e+03     0.004   \n",
       "coal_co2             327.0  1.558270e+03  2.305254e+03     0.000   \n",
       "flaring_co2          327.0  4.863087e+01  4.228868e+01     0.000   \n",
       "gas_co2              327.0  7.038774e+02  7.849246e+02     0.000   \n",
       "land_use_change_co2  327.0  9.832504e+02  9.661938e+02  -323.861   \n",
       "oil_co2              327.0  1.435097e+03  1.353463e+03     0.004   \n",
       "other_industry_co2   327.0  2.785869e+01  4.563874e+01     0.000   \n",
       "\n",
       "                              25%           50%           75%           max  \n",
       "year                 1.984000e+03  1.996000e+03  2.008000e+03  2.021000e+03  \n",
       "population           2.444977e+08  4.923192e+08  7.439085e+08  4.693332e+09  \n",
       "cement_co2           1.315750e+01  4.840100e+01  1.151990e+02  1.358534e+03  \n",
       "total_co2            4.576025e+02  1.251306e+03  6.428630e+03  2.168899e+04  \n",
       "coal_co2             1.251180e+02  4.237800e+02  2.040023e+03  1.195901e+04  \n",
       "flaring_co2          1.816650e+01  4.051400e+01  6.913000e+01  2.303750e+02  \n",
       "gas_co2              6.404900e+01  2.390980e+02  1.358621e+03  3.242854e+03  \n",
       "land_use_change_co2  1.391950e+02  7.241160e+02  1.716382e+03  4.117860e+03  \n",
       "oil_co2              2.063435e+02  6.074600e+02  2.760164e+03  4.806574e+03  \n",
       "other_industry_co2   0.000000e+00  4.647000e+00  3.426750e+01  2.060510e+02  "
      ]
     },
     "execution_count": 23,
     "metadata": {},
     "output_type": "execute_result"
    }
   ],
   "source": [
    "emissions_continents.describe().T"
   ]
  },
  {
   "cell_type": "markdown",
   "metadata": {},
   "source": [
    "* **Drop unnecessary countries**\n",
    "\n",
    "The country column contains countries and areas that are not of interest for this analysis. Therefore, they will be removed from the dataset."
   ]
  },
  {
   "cell_type": "code",
   "execution_count": 24,
   "metadata": {},
   "outputs": [
    {
     "data": {
      "text/plain": [
       "array(['Afghanistan', 'Africa', 'Africa (GCP)', 'Aland Islands',\n",
       "       'Albania', 'Algeria', 'American Samoa', 'Andorra', 'Angola',\n",
       "       'Anguilla', 'Antarctica', 'Antigua and Barbuda', 'Argentina',\n",
       "       'Armenia', 'Aruba', 'Asia', 'Asia (GCP)',\n",
       "       'Asia (excl. China and India)', 'Australia', 'Austria',\n",
       "       'Azerbaijan', 'Bahamas', 'Bahrain', 'Bangladesh', 'Barbados',\n",
       "       'Belarus', 'Belgium', 'Belize', 'Benin', 'Bermuda', 'Bhutan',\n",
       "       'Bolivia', 'Bonaire Sint Eustatius and Saba',\n",
       "       'Bosnia and Herzegovina', 'Botswana', 'Brazil',\n",
       "       'British Virgin Islands', 'Brunei', 'Bulgaria', 'Burkina Faso',\n",
       "       'Burundi', 'Cambodia', 'Cameroon', 'Canada', 'Cape Verde',\n",
       "       'Central African Republic', 'Central America (GCP)', 'Chad',\n",
       "       'Chile', 'China', 'Christmas Island', 'Colombia', 'Comoros',\n",
       "       'Congo', 'Cook Islands', 'Costa Rica', \"Cote d'Ivoire\", 'Croatia',\n",
       "       'Cuba', 'Curacao', 'Cyprus', 'Czechia',\n",
       "       'Democratic Republic of Congo', 'Denmark', 'Djibouti', 'Dominica',\n",
       "       'Dominican Republic', 'Ecuador', 'Egypt', 'El Salvador',\n",
       "       'Equatorial Guinea', 'Eritrea', 'Estonia', 'Eswatini', 'Ethiopia',\n",
       "       'Europe', 'Europe (GCP)', 'Europe (excl. EU-27)',\n",
       "       'Europe (excl. EU-28)', 'European Union (27)',\n",
       "       'European Union (27) (GCP)', 'European Union (28)',\n",
       "       'Faeroe Islands', 'Falkland Islands', 'Fiji', 'Finland', 'France',\n",
       "       'French Guiana', 'French Polynesia', 'Gabon', 'Gambia', 'Georgia',\n",
       "       'Germany', 'Ghana', 'Greece', 'Greenland', 'Grenada', 'Guadeloupe',\n",
       "       'Guatemala', 'Guernsey', 'Guinea', 'Guinea-Bissau', 'Guyana',\n",
       "       'Haiti', 'High-income countries', 'Honduras', 'Hong Kong',\n",
       "       'Hungary', 'Iceland', 'India', 'Indonesia',\n",
       "       'International transport', 'Iran', 'Iraq', 'Ireland',\n",
       "       'Isle of Man', 'Israel', 'Italy', 'Jamaica', 'Japan', 'Jersey',\n",
       "       'Jordan', 'Kazakhstan', 'Kenya', 'Kiribati', 'Kosovo', 'Kuwait',\n",
       "       'Kuwaiti Oil Fires (GCP)', 'Kyrgyzstan', 'Laos', 'Latvia',\n",
       "       'Lebanon', 'Lesotho', 'Liberia', 'Libya', 'Liechtenstein',\n",
       "       'Lithuania', 'Low-income countries',\n",
       "       'Lower-middle-income countries', 'Luxembourg', 'Macao',\n",
       "       'Madagascar', 'Malawi', 'Malaysia', 'Maldives', 'Mali', 'Malta',\n",
       "       'Marshall Islands', 'Martinique', 'Mauritania', 'Mauritius',\n",
       "       'Mayotte', 'Mexico', 'Micronesia (country)', 'Middle East (GCP)',\n",
       "       'Moldova', 'Mongolia', 'Montenegro', 'Montserrat', 'Morocco',\n",
       "       'Mozambique', 'Myanmar', 'Namibia', 'Nauru', 'Nepal',\n",
       "       'Netherlands', 'Netherlands Antilles', 'New Caledonia',\n",
       "       'New Zealand', 'Nicaragua', 'Niger', 'Nigeria', 'Niue',\n",
       "       'Non-OECD (GCP)', 'North America', 'North America (GCP)',\n",
       "       'North America (excl. USA)', 'North Korea', 'North Macedonia',\n",
       "       'Norway', 'OECD (GCP)', 'Oceania', 'Oceania (GCP)', 'Oman',\n",
       "       'Pakistan', 'Palau', 'Palestine', 'Panama',\n",
       "       'Panama Canal Zone (GCP)', 'Papua New Guinea', 'Paraguay', 'Peru',\n",
       "       'Philippines', 'Poland', 'Portugal', 'Puerto Rico', 'Qatar',\n",
       "       'Reunion', 'Romania', 'Russia', 'Rwanda', 'Ryukyu Islands (GCP)',\n",
       "       'Saint Helena', 'Saint Kitts and Nevis', 'Saint Lucia',\n",
       "       'Saint Martin (French part)', 'Saint Pierre and Miquelon',\n",
       "       'Saint Vincent and the Grenadines', 'Samoa',\n",
       "       'Sao Tome and Principe', 'Saudi Arabia', 'Senegal', 'Serbia',\n",
       "       'Seychelles', 'Sierra Leone', 'Singapore',\n",
       "       'Sint Maarten (Dutch part)', 'Slovakia', 'Slovenia',\n",
       "       'Solomon Islands', 'Somalia', 'South Africa', 'South America',\n",
       "       'South America (GCP)', 'South Korea', 'South Sudan', 'Spain',\n",
       "       'Sri Lanka', 'St. Kitts-Nevis-Anguilla (GCP)', 'Sudan', 'Suriname',\n",
       "       'Svalbard and Jan Mayen', 'Sweden', 'Switzerland', 'Syria',\n",
       "       'Taiwan', 'Tajikistan', 'Tanzania', 'Thailand', 'Timor', 'Togo',\n",
       "       'Tonga', 'Trinidad and Tobago', 'Tunisia', 'Turkey',\n",
       "       'Turkmenistan', 'Turks and Caicos Islands', 'Tuvalu', 'Uganda',\n",
       "       'Ukraine', 'United Arab Emirates', 'United Kingdom',\n",
       "       'United States', 'United States Virgin Islands',\n",
       "       'Upper-middle-income countries', 'Uruguay', 'Uzbekistan',\n",
       "       'Vanuatu', 'Venezuela', 'Vietnam', 'Wallis and Futuna',\n",
       "       'Western Sahara', 'World', 'Yemen', 'Zambia', 'Zimbabwe'],\n",
       "      dtype=object)"
      ]
     },
     "execution_count": 24,
     "metadata": {},
     "output_type": "execute_result"
    }
   ],
   "source": [
    "carbon_emission.country.unique()"
   ]
  },
  {
   "cell_type": "code",
   "execution_count": 25,
   "metadata": {},
   "outputs": [],
   "source": [
    "# Select countries to drop\n",
    "countries_to_drop = [\"Africa\", \"Africa (GCP)\", \"Asia\", \"Asia (GCP)\", \"Asia (excl. China and India)\", \"Central America (GCP)\", \"Europe\", \"Europe (GCP)\", \n",
    "                     \"Europe (excl. EU-27)\", \"Europe (excl. EU-28)\",\"European Union (27)\", \"European Union (27) (GCP)\", \"European Union (28)\",\n",
    "                     \"High-income countries\", \"International transport\", \"Kuwaiti Oil Fires (GCP)\", \"Low-income countries\", \"Lower-middle-income countries\", \n",
    "                     \"Middle East (GCP)\", \"Non-OECD (GCP)\", \"North America\", \"North America (GCP)\", \"North America (excl. USA)\", \"OECD (GCP)\", \"Oceania\", \n",
    "                     \"Oceania (GCP)\", \"Panama Canal Zone (GCP)\", \"Ryukyu Islands (GCP)\", \"South America\", \"South America (GCP)\", \"Upper-middle-income countries\", \"World\"]"
   ]
  },
  {
   "cell_type": "code",
   "execution_count": 26,
   "metadata": {},
   "outputs": [],
   "source": [
    "# Find the row index of each country and drop them from the DataFrame\n",
    "for country in countries_to_drop:\n",
    "    row_index = carbon_emission.index[carbon_emission[\"country\"] == country].to_list()\n",
    "    carbon_emission = carbon_emission.drop(row_index)"
   ]
  },
  {
   "cell_type": "code",
   "execution_count": 27,
   "metadata": {},
   "outputs": [
    {
     "data": {
      "text/plain": [
       "(11702, 12)"
      ]
     },
     "execution_count": 27,
     "metadata": {},
     "output_type": "execute_result"
    }
   ],
   "source": [
    "# Check that the countries have been sucessfully dropped\n",
    "carbon_emission.shape"
   ]
  },
  {
   "cell_type": "markdown",
   "metadata": {},
   "source": [
    "**The clean dataset**"
   ]
  },
  {
   "cell_type": "code",
   "execution_count": 28,
   "metadata": {},
   "outputs": [
    {
     "data": {
      "text/html": [
       "<div>\n",
       "<style scoped>\n",
       "    .dataframe tbody tr th:only-of-type {\n",
       "        vertical-align: middle;\n",
       "    }\n",
       "\n",
       "    .dataframe tbody tr th {\n",
       "        vertical-align: top;\n",
       "    }\n",
       "\n",
       "    .dataframe thead th {\n",
       "        text-align: right;\n",
       "    }\n",
       "</style>\n",
       "<table border=\"1\" class=\"dataframe\">\n",
       "  <thead>\n",
       "    <tr style=\"text-align: right;\">\n",
       "      <th></th>\n",
       "      <th>country</th>\n",
       "      <th>year</th>\n",
       "      <th>population</th>\n",
       "      <th>gdp</th>\n",
       "      <th>cement_co2</th>\n",
       "      <th>total_co2</th>\n",
       "      <th>coal_co2</th>\n",
       "      <th>flaring_co2</th>\n",
       "      <th>gas_co2</th>\n",
       "      <th>land_use_change_co2</th>\n",
       "      <th>oil_co2</th>\n",
       "      <th>other_industry_co2</th>\n",
       "    </tr>\n",
       "  </thead>\n",
       "  <tbody>\n",
       "    <tr>\n",
       "      <th>0</th>\n",
       "      <td>Afghanistan</td>\n",
       "      <td>1971</td>\n",
       "      <td>11015853.0</td>\n",
       "      <td>1.577051e+10</td>\n",
       "      <td>0.043</td>\n",
       "      <td>1.894</td>\n",
       "      <td>0.359</td>\n",
       "      <td>0.304</td>\n",
       "      <td>0.440</td>\n",
       "      <td>6.265</td>\n",
       "      <td>0.747</td>\n",
       "      <td>0.0</td>\n",
       "    </tr>\n",
       "    <tr>\n",
       "      <th>1</th>\n",
       "      <td>Afghanistan</td>\n",
       "      <td>1972</td>\n",
       "      <td>11286753.0</td>\n",
       "      <td>1.317055e+10</td>\n",
       "      <td>0.046</td>\n",
       "      <td>1.530</td>\n",
       "      <td>0.191</td>\n",
       "      <td>0.366</td>\n",
       "      <td>0.300</td>\n",
       "      <td>6.046</td>\n",
       "      <td>0.627</td>\n",
       "      <td>0.0</td>\n",
       "    </tr>\n",
       "    <tr>\n",
       "      <th>2</th>\n",
       "      <td>Afghanistan</td>\n",
       "      <td>1973</td>\n",
       "      <td>11575308.0</td>\n",
       "      <td>1.356863e+10</td>\n",
       "      <td>0.067</td>\n",
       "      <td>1.635</td>\n",
       "      <td>0.311</td>\n",
       "      <td>0.223</td>\n",
       "      <td>0.333</td>\n",
       "      <td>4.983</td>\n",
       "      <td>0.702</td>\n",
       "      <td>0.0</td>\n",
       "    </tr>\n",
       "    <tr>\n",
       "      <th>3</th>\n",
       "      <td>Afghanistan</td>\n",
       "      <td>1974</td>\n",
       "      <td>11869881.0</td>\n",
       "      <td>1.430911e+10</td>\n",
       "      <td>0.070</td>\n",
       "      <td>1.913</td>\n",
       "      <td>0.305</td>\n",
       "      <td>0.367</td>\n",
       "      <td>0.400</td>\n",
       "      <td>4.617</td>\n",
       "      <td>0.771</td>\n",
       "      <td>0.0</td>\n",
       "    </tr>\n",
       "    <tr>\n",
       "      <th>4</th>\n",
       "      <td>Afghanistan</td>\n",
       "      <td>1975</td>\n",
       "      <td>12157390.0</td>\n",
       "      <td>1.517777e+10</td>\n",
       "      <td>0.069</td>\n",
       "      <td>2.121</td>\n",
       "      <td>0.399</td>\n",
       "      <td>0.304</td>\n",
       "      <td>0.475</td>\n",
       "      <td>4.140</td>\n",
       "      <td>0.874</td>\n",
       "      <td>0.0</td>\n",
       "    </tr>\n",
       "  </tbody>\n",
       "</table>\n",
       "</div>"
      ],
      "text/plain": [
       "       country  year  population           gdp  cement_co2  total_co2  \\\n",
       "0  Afghanistan  1971  11015853.0  1.577051e+10       0.043      1.894   \n",
       "1  Afghanistan  1972  11286753.0  1.317055e+10       0.046      1.530   \n",
       "2  Afghanistan  1973  11575308.0  1.356863e+10       0.067      1.635   \n",
       "3  Afghanistan  1974  11869881.0  1.430911e+10       0.070      1.913   \n",
       "4  Afghanistan  1975  12157390.0  1.517777e+10       0.069      2.121   \n",
       "\n",
       "   coal_co2  flaring_co2  gas_co2  land_use_change_co2  oil_co2  \\\n",
       "0     0.359        0.304    0.440                6.265    0.747   \n",
       "1     0.191        0.366    0.300                6.046    0.627   \n",
       "2     0.311        0.223    0.333                4.983    0.702   \n",
       "3     0.305        0.367    0.400                4.617    0.771   \n",
       "4     0.399        0.304    0.475                4.140    0.874   \n",
       "\n",
       "   other_industry_co2  \n",
       "0                 0.0  \n",
       "1                 0.0  \n",
       "2                 0.0  \n",
       "3                 0.0  \n",
       "4                 0.0  "
      ]
     },
     "execution_count": 28,
     "metadata": {},
     "output_type": "execute_result"
    }
   ],
   "source": [
    "carbon_emission.head()"
   ]
  },
  {
   "cell_type": "code",
   "execution_count": 29,
   "metadata": {},
   "outputs": [],
   "source": [
    "# Save the cleaned dataset\n",
    "carbon_emission.to_csv(\"../data/processed/co2-emissions-cleaned-dataset.csv\")"
   ]
  },
  {
   "cell_type": "markdown",
   "metadata": {},
   "source": [
    "## Data analysis\n",
    "\n",
    "In this section, an in-depth data exploratory analysis is carried out."
   ]
  },
  {
   "cell_type": "markdown",
   "metadata": {},
   "source": [
    "### **Distribution of carbon emissions by year**"
   ]
  },
  {
   "cell_type": "code",
   "execution_count": 30,
   "metadata": {},
   "outputs": [],
   "source": [
    "emissions_by_year = carbon_emission.groupby(\"year\")[\"total_co2\"].sum()"
   ]
  },
  {
   "cell_type": "code",
   "execution_count": 31,
   "metadata": {},
   "outputs": [
    {
     "data": {
      "text/plain": [
       "Text(0.5, 1.0, 'Distribution of CO$_2$ Emissions Over the Last 50 Years')"
      ]
     },
     "execution_count": 31,
     "metadata": {},
     "output_type": "execute_result"
    },
    {
     "data": {
      "image/png": "[encoded data removed]",
      "text/plain": [
       "<Figure size 2000x400 with 1 Axes>"
      ]
     },
     "metadata": {},
     "output_type": "display_data"
    }
   ],
   "source": [
    "emissions_by_year.plot(kind = \"bar\", figsize = (20, 4), color = \"y\")\n",
    "plt.xlabel(\"Year\")\n",
    "plt.xticks(rotation = 45)\n",
    "plt.ylabel(\"Total CO$_2$ Emissions (Million Tons)\")\n",
    "plt.title(\"Distribution of CO$_2$ Emissions Over the Last 50 Years\", size = 12)"
   ]
  },
  {
   "cell_type": "markdown",
   "metadata": {},
   "source": [
    "Carbon dioxide emissions over the last 50 years have been increasing. The year with the most carbon emissions was 2021. \n",
    "\n",
    "In 2020, carbon dioxide emissions were lower than in previous years. In 2020, the Coronavirus pandemic occurred. There was a global stillness that contributed positively to carbon dioxide emissions. \n",
    "\n",
    "In 2009, emissions were also lower than in the previous year. This can be explained by the global financial recession in 2008, which probably also affected carbon emissions."
   ]
  },
  {
   "cell_type": "markdown",
   "metadata": {},
   "source": [
    "### **Distribution of carbon emissions by continent**"
   ]
  },
  {
   "cell_type": "code",
   "execution_count": 32,
   "metadata": {},
   "outputs": [],
   "source": [
    "emissions_by_continent = emissions_continents.groupby(\"continent\")[\"total_co2\"].sum()"
   ]
  },
  {
   "cell_type": "code",
   "execution_count": 33,
   "metadata": {},
   "outputs": [
    {
     "data": {
      "text/html": [
       "<div>\n",
       "<style scoped>\n",
       "    .dataframe tbody tr th:only-of-type {\n",
       "        vertical-align: middle;\n",
       "    }\n",
       "\n",
       "    .dataframe tbody tr th {\n",
       "        vertical-align: top;\n",
       "    }\n",
       "\n",
       "    .dataframe thead th {\n",
       "        text-align: right;\n",
       "    }\n",
       "</style>\n",
       "<table border=\"1\" class=\"dataframe\">\n",
       "  <thead>\n",
       "    <tr style=\"text-align: right;\">\n",
       "      <th></th>\n",
       "      <th>continent</th>\n",
       "      <th>total_co2</th>\n",
       "    </tr>\n",
       "  </thead>\n",
       "  <tbody>\n",
       "    <tr>\n",
       "      <th>0</th>\n",
       "      <td>Asia</td>\n",
       "      <td>518759.310</td>\n",
       "    </tr>\n",
       "    <tr>\n",
       "      <th>1</th>\n",
       "      <td>Europe</td>\n",
       "      <td>338730.194</td>\n",
       "    </tr>\n",
       "    <tr>\n",
       "      <th>2</th>\n",
       "      <td>North America</td>\n",
       "      <td>317450.139</td>\n",
       "    </tr>\n",
       "    <tr>\n",
       "      <th>3</th>\n",
       "      <td>Africa</td>\n",
       "      <td>43897.417</td>\n",
       "    </tr>\n",
       "    <tr>\n",
       "      <th>4</th>\n",
       "      <td>South America</td>\n",
       "      <td>38379.939</td>\n",
       "    </tr>\n",
       "    <tr>\n",
       "      <th>5</th>\n",
       "      <td>Oceania</td>\n",
       "      <td>17600.933</td>\n",
       "    </tr>\n",
       "    <tr>\n",
       "      <th>6</th>\n",
       "      <td>Antarctica</td>\n",
       "      <td>0.157</td>\n",
       "    </tr>\n",
       "  </tbody>\n",
       "</table>\n",
       "</div>"
      ],
      "text/plain": [
       "       continent   total_co2\n",
       "0           Asia  518759.310\n",
       "1         Europe  338730.194\n",
       "2  North America  317450.139\n",
       "3         Africa   43897.417\n",
       "4  South America   38379.939\n",
       "5        Oceania   17600.933\n",
       "6     Antarctica       0.157"
      ]
     },
     "execution_count": 33,
     "metadata": {},
     "output_type": "execute_result"
    }
   ],
   "source": [
    "emissions_by_continent = emissions_by_continent.to_frame().sort_values(by = \"total_co2\", ascending = False).reset_index()\n",
    "emissions_by_continent"
   ]
  },
  {
   "cell_type": "code",
   "execution_count": 34,
   "metadata": {},
   "outputs": [
    {
     "data": {
      "text/plain": [
       "Text(0.5, 1.0, 'CO$_2$ Emission Distribution by Continent in the Last 50 Years')"
      ]
     },
     "execution_count": 34,
     "metadata": {},
     "output_type": "execute_result"
    },
    {
     "data": {
      "image/png": "[encoded data removed]",
      "text/plain": [
       "<Figure size 1100x400 with 1 Axes>"
      ]
     },
     "metadata": {},
     "output_type": "display_data"
    }
   ],
   "source": [
    "distribution_emissions_continent_graph = plt.figure(figsize = (11, 4))\n",
    "sns.barplot(emissions_by_continent, x = \"continent\", y = \"total_co2\", errorbar = None, hue = \"continent\",\n",
    "            palette = [\"deepskyblue\", \"crimson\", \"yellowgreen\", \"hotpink\", \"gold\", \"darkturquoise\", \"mediumorchid\"])\n",
    "plt.xlabel(\"Year\")\n",
    "plt.ylabel(\"Total CO$_2$ Emissions (Million Tons)\")\n",
    "plt.title(\"CO$_2$ Emission Distribution by Continent in the Last 50 Years\", size = 12)"
   ]
  },
  {
   "cell_type": "markdown",
   "metadata": {},
   "source": [
    "The continent that has produced the most carbon emissions in the last 50 years is Asia, followed by Europe and North America. It is also worth noting that Antarctica has hardly any carbon emissions, as it was expected."
   ]
  },
  {
   "cell_type": "markdown",
   "metadata": {},
   "source": [
    "### **Evolution of carbon emissions by continent**"
   ]
  },
  {
   "cell_type": "code",
   "execution_count": 35,
   "metadata": {},
   "outputs": [
    {
     "data": {
      "text/plain": [
       "Text(0.5, 1.0, 'Evolution of CO$_2$ Emission by Continent in The Last 50 Years')"
      ]
     },
     "execution_count": 35,
     "metadata": {},
     "output_type": "execute_result"
    },
    {
     "data": {
      "image/png": "[encoded data removed]",
      "text/plain": [
       "<Figure size 1100x400 with 1 Axes>"
      ]
     },
     "metadata": {},
     "output_type": "display_data"
    }
   ],
   "source": [
    "evolution_emissions_continent_graph = plt.figure(figsize = (11, 4))\n",
    "sns.lineplot(emissions_continents, x = \"year\", y = \"total_co2\", hue = \"continent\", linewidth = 2,\n",
    "             palette = [\"deepskyblue\", \"crimson\", \"yellowgreen\", \"hotpink\", \"gold\", \"darkcyan\", \"mediumorchid\"])\n",
    "plt.xlabel(\"Year\")\n",
    "plt.ylabel(\"Total CO$_2$ Emissions (Million Tons)\")\n",
    "plt.title(\"Evolution of CO$_2$ Emission by Continent in The Last 50 Years\", size = 12)"
   ]
  },
  {
   "cell_type": "markdown",
   "metadata": {},
   "source": [
    "The graph above shows the evolution of carbon dioxide emissions by continent over the last 50 years. Asia has increased its emissions considerably since 1990, while Europe has decreased its emissions below those of North America. North America has maintained its emissions stable over the last 50 years. It is worth noting that Africa and South America have hardly any emissions. \n",
    "\n",
    "It is clear that Asia is the continent that produces the most carbon emissions. Asian countries have dramatically increased their emissions since 1990. This graph also explains why Europe has polluted more than North America over the last 50 years. While North America maintained the same emissions trend, Europe has reduced its emissions since 1990."
   ]
  },
  {
   "cell_type": "markdown",
   "metadata": {},
   "source": [
    "### **World's largest carbon dioxide emitters**"
   ]
  },
  {
   "cell_type": "code",
   "execution_count": 36,
   "metadata": {},
   "outputs": [
    {
     "data": {
      "text/html": [
       "<div>\n",
       "<style scoped>\n",
       "    .dataframe tbody tr th:only-of-type {\n",
       "        vertical-align: middle;\n",
       "    }\n",
       "\n",
       "    .dataframe tbody tr th {\n",
       "        vertical-align: top;\n",
       "    }\n",
       "\n",
       "    .dataframe thead th {\n",
       "        text-align: right;\n",
       "    }\n",
       "</style>\n",
       "<table border=\"1\" class=\"dataframe\">\n",
       "  <thead>\n",
       "    <tr style=\"text-align: right;\">\n",
       "      <th></th>\n",
       "      <th>country</th>\n",
       "      <th>total_co2</th>\n",
       "    </tr>\n",
       "  </thead>\n",
       "  <tbody>\n",
       "    <tr>\n",
       "      <th>0</th>\n",
       "      <td>United States</td>\n",
       "      <td>267582.282</td>\n",
       "    </tr>\n",
       "    <tr>\n",
       "      <th>1</th>\n",
       "      <td>China</td>\n",
       "      <td>238482.407</td>\n",
       "    </tr>\n",
       "    <tr>\n",
       "      <th>2</th>\n",
       "      <td>Russia</td>\n",
       "      <td>92473.851</td>\n",
       "    </tr>\n",
       "    <tr>\n",
       "      <th>3</th>\n",
       "      <td>Japan</td>\n",
       "      <td>56417.577</td>\n",
       "    </tr>\n",
       "    <tr>\n",
       "      <th>4</th>\n",
       "      <td>India</td>\n",
       "      <td>52732.660</td>\n",
       "    </tr>\n",
       "    <tr>\n",
       "      <th>5</th>\n",
       "      <td>Germany</td>\n",
       "      <td>47492.025</td>\n",
       "    </tr>\n",
       "    <tr>\n",
       "      <th>6</th>\n",
       "      <td>United Kingdom</td>\n",
       "      <td>27660.742</td>\n",
       "    </tr>\n",
       "    <tr>\n",
       "      <th>7</th>\n",
       "      <td>Canada</td>\n",
       "      <td>25268.412</td>\n",
       "    </tr>\n",
       "    <tr>\n",
       "      <th>8</th>\n",
       "      <td>Ukraine</td>\n",
       "      <td>22835.249</td>\n",
       "    </tr>\n",
       "    <tr>\n",
       "      <th>9</th>\n",
       "      <td>France</td>\n",
       "      <td>20887.066</td>\n",
       "    </tr>\n",
       "  </tbody>\n",
       "</table>\n",
       "</div>"
      ],
      "text/plain": [
       "          country   total_co2\n",
       "0   United States  267582.282\n",
       "1           China  238482.407\n",
       "2          Russia   92473.851\n",
       "3           Japan   56417.577\n",
       "4           India   52732.660\n",
       "5         Germany   47492.025\n",
       "6  United Kingdom   27660.742\n",
       "7          Canada   25268.412\n",
       "8         Ukraine   22835.249\n",
       "9          France   20887.066"
      ]
     },
     "execution_count": 36,
     "metadata": {},
     "output_type": "execute_result"
    }
   ],
   "source": [
    "top_emitters = carbon_emission.groupby(\"country\")[\"total_co2\"].sum()\n",
    "top_emitters = top_emitters.to_frame().sort_values(\"total_co2\", ascending = False).reset_index()[0:10]\n",
    "top_emitters"
   ]
  },
  {
   "cell_type": "code",
   "execution_count": 37,
   "metadata": {},
   "outputs": [
    {
     "data": {
      "text/plain": [
       "Text(0.5, 1.0, \"World's Largest CO$_2$ Emitters in the Last 50 Years\")"
      ]
     },
     "execution_count": 37,
     "metadata": {},
     "output_type": "execute_result"
    },
    {
     "data": {
      "image/png": "[encoded data removed]",
      "text/plain": [
       "<Figure size 1100x400 with 1 Axes>"
      ]
     },
     "metadata": {},
     "output_type": "display_data"
    }
   ],
   "source": [
    "top_emitters_graph = plt.figure(figsize = (11, 4))\n",
    "sns.barplot(top_emitters, x = \"country\", y = \"total_co2\", errorbar = None, hue = \"country\",\n",
    "            palette = [\"deepskyblue\", \"crimson\", \"yellowgreen\", \"hotpink\", \"gold\", \"darkturquoise\", \"mediumorchid\", \"orangered\", \"orange\", \"darkgrey\" ])\n",
    "plt.xlabel(\"Country\")\n",
    "plt.ylabel(\"Total CO$_2$ Emissions (Million Tons)\")\n",
    "plt.title(\"World's Largest CO$_2$ Emitters in the Last 50 Years\", size = 12)"
   ]
  },
  {
   "cell_type": "markdown",
   "metadata": {},
   "source": [
    "* **United States: evolution of carbon dioxide emissions**\n",
    "\n",
    "The United States is the largest carbon dioxide emitter in the world in the last 50 years. Let's take a look at the evolution of its emissions over this time period."
   ]
  },
  {
   "cell_type": "code",
   "execution_count": 38,
   "metadata": {},
   "outputs": [],
   "source": [
    "united_states = carbon_emission[carbon_emission[\"country\"] == \"United States\"].reset_index(drop = True)"
   ]
  },
  {
   "cell_type": "code",
   "execution_count": 39,
   "metadata": {},
   "outputs": [
    {
     "data": {
      "text/plain": [
       "Text(0.5, 1.0, 'Evolution of U.S. CO$_2$ Emission Over the Last 50 Years')"
      ]
     },
     "execution_count": 39,
     "metadata": {},
     "output_type": "execute_result"
    },
    {
     "data": {
      "image/png": "[encoded data removed]",
      "text/plain": [
       "<Figure size 1100x400 with 1 Axes>"
      ]
     },
     "metadata": {},
     "output_type": "display_data"
    }
   ],
   "source": [
    "us_emissions_evolution_graph = plt.figure(figsize = (11, 4))\n",
    "sns.lineplot(united_states, x = \"year\", y = \"total_co2\", linewidth = 2, color = \"deepskyblue\" )\n",
    "plt.xlabel(\"Year\")\n",
    "plt.ylabel(\"Total CO$_2$ Emissions (Million Tons)\")\n",
    "plt.title(\"Evolution of U.S. CO$_2$ Emission Over the Last 50 Years\", size = 12)"
   ]
  },
  {
   "cell_type": "markdown",
   "metadata": {},
   "source": [
    "U.S. carbon dioxide emissions dropped in 1983 and continued to grow thereafter until peaking in 2008. After 2008, U.S. carbon dioxide emissions have been decreasing."
   ]
  },
  {
   "cell_type": "markdown",
   "metadata": {},
   "source": [
    "* **China: evolution of carbon dioxide emissions**\n",
    "\n",
    "China is the second largest carbon dioxide emitter in the world in the last 50 years. Let's take a look at the evolution of its emissions over this time period."
   ]
  },
  {
   "cell_type": "code",
   "execution_count": 40,
   "metadata": {},
   "outputs": [],
   "source": [
    "china = carbon_emission[carbon_emission[\"country\"] == \"China\"].reset_index(drop = True)"
   ]
  },
  {
   "cell_type": "code",
   "execution_count": 41,
   "metadata": {},
   "outputs": [
    {
     "data": {
      "text/plain": [
       "Text(0.5, 1.0, \"Evolution of China's CO$_2$ Emission Over the Last 50 Years\")"
      ]
     },
     "execution_count": 41,
     "metadata": {},
     "output_type": "execute_result"
    },
    {
     "data": {
      "image/png": "[encoded data removed]",
      "text/plain": [
       "<Figure size 1100x400 with 1 Axes>"
      ]
     },
     "metadata": {},
     "output_type": "display_data"
    }
   ],
   "source": [
    "china_emissions_evolution_graph = plt.figure(figsize = (11, 4))\n",
    "sns.lineplot(china, x = \"year\", y = \"total_co2\", linewidth = 2, color = \"crimson\" )\n",
    "plt.xlabel(\"Year\")\n",
    "plt.ylabel(\"Total CO$_2$ Emissions (Million Tons)\")\n",
    "plt.title(\"Evolution of China's CO$_2$ Emission Over the Last 50 Years\", size = 12)"
   ]
  },
  {
   "cell_type": "markdown",
   "metadata": {},
   "source": [
    "China's carbon dioxide emissions have increased since 1990, however the growth has been extremely significant since 2000. "
   ]
  },
  {
   "cell_type": "markdown",
   "metadata": {},
   "source": [
    "* **Germany: evolution of carbon dioxide emissions**\n",
    "\n",
    "Let's take a look at the evolution of Germany's emissions over the last 50 years."
   ]
  },
  {
   "cell_type": "code",
   "execution_count": 42,
   "metadata": {},
   "outputs": [],
   "source": [
    "germany = carbon_emission[carbon_emission[\"country\"] == \"Germany\"].reset_index(drop = True)"
   ]
  },
  {
   "cell_type": "code",
   "execution_count": 43,
   "metadata": {},
   "outputs": [
    {
     "data": {
      "text/plain": [
       "Text(0.5, 1.0, \"Evolution of Germany's CO$_2$ Emission Over the Last 50 Years\")"
      ]
     },
     "execution_count": 43,
     "metadata": {},
     "output_type": "execute_result"
    },
    {
     "data": {
      "image/png": "[encoded data removed]",
      "text/plain": [
       "<Figure size 1100x400 with 1 Axes>"
      ]
     },
     "metadata": {},
     "output_type": "display_data"
    }
   ],
   "source": [
    "germany_emissions_evolution_graph = plt.figure(figsize = (11, 4))\n",
    "sns.lineplot(germany, x = \"year\", y = \"total_co2\", linewidth = 2, color = \"darkturquoise\" )\n",
    "plt.xlabel(\"Year\")\n",
    "plt.ylabel(\"Total CO$_2$ Emissions (Million Tons)\")\n",
    "plt.title(\"Evolution of Germany's CO$_2$ Emission Over the Last 50 Years\", size = 12)"
   ]
  },
  {
   "cell_type": "markdown",
   "metadata": {},
   "source": [
    "Germany's emissions have been slowly decreasing since 1990. They reached the lowest peak emissions in 2020, which was the year of the coronavirus pandemic in which German industry was paralyzed for almost a year. \n",
    "\n",
    "These data show the reality of the commitment of the European Union and the German administration to emissions reduction, global warming, pollution and environmental policies."
   ]
  },
  {
   "cell_type": "markdown",
   "metadata": {},
   "source": [
    "### **Carbon emissions sources**\n",
    "\n",
    "Carbon dioxide is found naturally in the atmosphere as part of the Earth's carbon cycle, however some human activities such as the burning of oil, coal and gas, as well as deforestation, are the main cause of increasing carbon dioxide concentrations in the atmosphere. This section explores the impact of each source of carbon dioxide emissions on total emissions.\n",
    "\n",
    "* **Evolution of carbon emission sources over the years**"
   ]
  },
  {
   "cell_type": "code",
   "execution_count": 44,
   "metadata": {},
   "outputs": [],
   "source": [
    "sources = [\"cement_co2\", \"coal_co2\", \"flaring_co2\", \"gas_co2\", \"oil_co2\", \"other_industry_co2\", \"land_use_change_co2\"]\n",
    "\n",
    "carbon_sources_evolution= pd.DataFrame()\n",
    "\n",
    "for i in sources:\n",
    "    source = carbon_emission.groupby(\"year\")[i].sum().reset_index()\n",
    "    carbon_sources_evolution = pd.concat([carbon_sources_evolution, source], axis = 1)"
   ]
  },
  {
   "cell_type": "code",
   "execution_count": 45,
   "metadata": {},
   "outputs": [],
   "source": [
    "carbon_sources_evolution = carbon_sources_evolution.iloc[:, [0,1,3,5,7,9,11,13]]"
   ]
  },
  {
   "cell_type": "code",
   "execution_count": 46,
   "metadata": {},
   "outputs": [
    {
     "data": {
      "text/plain": [
       "Text(0.5, 1.0, 'Evolution of CO$_2$ Emission by Sources Over the Last 50 Years')"
      ]
     },
     "execution_count": 46,
     "metadata": {},
     "output_type": "execute_result"
    },
    {
     "data": {
      "image/png": "[encoded data removed]",
      "text/plain": [
       "<Figure size 1100x400 with 1 Axes>"
      ]
     },
     "metadata": {},
     "output_type": "display_data"
    }
   ],
   "source": [
    "evolution_emission_sources_graph = plt.figure(figsize = (11, 4))\n",
    "sns.lineplot(carbon_sources_evolution, x = \"year\", y = \"cement_co2\", label = \"cement\", color = \"darkgrey\")\n",
    "sns.lineplot(carbon_sources_evolution, x = \"year\", y = \"coal_co2\", label = \"coal\", color = \"midnightblue\")\n",
    "sns.lineplot(carbon_sources_evolution, x = \"year\", y = \"flaring_co2\", label = \"flaring\", color = \"orangered\")\n",
    "sns.lineplot(carbon_sources_evolution, x = \"year\", y = \"gas_co2\", label = \"gas\", color = \"gold\")\n",
    "sns.lineplot(carbon_sources_evolution, x = \"year\", y = \"oil_co2\", label = \"oil\", color = \"deeppink\")\n",
    "sns.lineplot(carbon_sources_evolution, x = \"year\", y = \"other_industry_co2\", label = \"other industries\", color = \"deepskyblue\")\n",
    "sns.lineplot(carbon_sources_evolution, x = \"year\", y = \"land_use_change_co2\", label = \"land use change\", color = \"yellowgreen\")\n",
    "plt.xlabel(\"Years\")\n",
    "plt.ylabel(\"Total CO$_2$ Emissions (Million Tons)\")\n",
    "plt.title(\"Evolution of CO$_2$ Emission by Sources Over the Last 50 Years\", size = 12)"
   ]
  },
  {
   "cell_type": "markdown",
   "metadata": {},
   "source": [
    "The largest source of carbon dioxide emissions is coal. Carbon dioxide emissions from coal have been increasing over the past 50 years, although the growth has been most notable since 2000. This coincides with the increase in total carbon dioxide emissions in China, which probably means that China has been using more coal as fuel since 2000. This will be addressed further later on. \n",
    "\n",
    "The second source of carbon dioxide emissions is oil, which has been increasing steadily over the last 50 years.\n",
    "\n",
    "Gas emissions have increased since 1971 in a linear fashion.\n",
    "\n",
    "Emissions from land-use change have fluctuated over the last 50 years. Peak emissions from land-use change were reached in 1983, followed by 1997 and 2002.\n",
    "\n",
    "Carbon emissions from cement have remained almost constant over the last 50 years, with only a small increase observed since 2000.\n",
    "\n",
    "Emissions from flaring and other industries are almost identical and have a value close to zero."
   ]
  },
  {
   "cell_type": "markdown",
   "metadata": {},
   "source": [
    "* **Carbon emission sources by top emitters**"
   ]
  },
  {
   "cell_type": "code",
   "execution_count": 47,
   "metadata": {},
   "outputs": [],
   "source": [
    "sources = [\"cement_co2\", \"coal_co2\", \"flaring_co2\", \"gas_co2\", \"oil_co2\", \"other_industry_co2\", \"land_use_change_co2\"]\n",
    "\n",
    "carbon_sources = pd.DataFrame()\n",
    "\n",
    "for i in sources:\n",
    "    source = carbon_emission.groupby(\"country\")[i].sum().reset_index()\n",
    "    carbon_sources = pd.concat([carbon_sources, source], axis = 1)"
   ]
  },
  {
   "cell_type": "code",
   "execution_count": 48,
   "metadata": {},
   "outputs": [
    {
     "data": {
      "text/html": [
       "<div>\n",
       "<style scoped>\n",
       "    .dataframe tbody tr th:only-of-type {\n",
       "        vertical-align: middle;\n",
       "    }\n",
       "\n",
       "    .dataframe tbody tr th {\n",
       "        vertical-align: top;\n",
       "    }\n",
       "\n",
       "    .dataframe thead th {\n",
       "        text-align: right;\n",
       "    }\n",
       "</style>\n",
       "<table border=\"1\" class=\"dataframe\">\n",
       "  <thead>\n",
       "    <tr style=\"text-align: right;\">\n",
       "      <th></th>\n",
       "      <th>country</th>\n",
       "      <th>cement_co2</th>\n",
       "      <th>coal_co2</th>\n",
       "      <th>flaring_co2</th>\n",
       "      <th>gas_co2</th>\n",
       "      <th>oil_co2</th>\n",
       "      <th>other_industry_co2</th>\n",
       "      <th>land_use_change_co2</th>\n",
       "    </tr>\n",
       "  </thead>\n",
       "  <tbody>\n",
       "    <tr>\n",
       "      <th>0</th>\n",
       "      <td>Afghanistan</td>\n",
       "      <td>1.936</td>\n",
       "      <td>53.599</td>\n",
       "      <td>5.659</td>\n",
       "      <td>19.444</td>\n",
       "      <td>125.172</td>\n",
       "      <td>0.0</td>\n",
       "      <td>83.101</td>\n",
       "    </tr>\n",
       "    <tr>\n",
       "      <th>1</th>\n",
       "      <td>Aland Islands</td>\n",
       "      <td>0.000</td>\n",
       "      <td>0.000</td>\n",
       "      <td>0.000</td>\n",
       "      <td>0.000</td>\n",
       "      <td>0.000</td>\n",
       "      <td>0.0</td>\n",
       "      <td>-0.444</td>\n",
       "    </tr>\n",
       "    <tr>\n",
       "      <th>2</th>\n",
       "      <td>Albania</td>\n",
       "      <td>23.133</td>\n",
       "      <td>59.725</td>\n",
       "      <td>0.136</td>\n",
       "      <td>15.113</td>\n",
       "      <td>152.619</td>\n",
       "      <td>0.0</td>\n",
       "      <td>77.348</td>\n",
       "    </tr>\n",
       "    <tr>\n",
       "      <th>3</th>\n",
       "      <td>Algeria</td>\n",
       "      <td>234.658</td>\n",
       "      <td>89.688</td>\n",
       "      <td>687.099</td>\n",
       "      <td>2140.158</td>\n",
       "      <td>1569.952</td>\n",
       "      <td>0.0</td>\n",
       "      <td>359.290</td>\n",
       "    </tr>\n",
       "    <tr>\n",
       "      <th>4</th>\n",
       "      <td>American Samoa</td>\n",
       "      <td>0.000</td>\n",
       "      <td>0.000</td>\n",
       "      <td>0.000</td>\n",
       "      <td>0.000</td>\n",
       "      <td>0.000</td>\n",
       "      <td>0.0</td>\n",
       "      <td>0.406</td>\n",
       "    </tr>\n",
       "    <tr>\n",
       "      <th>...</th>\n",
       "      <td>...</td>\n",
       "      <td>...</td>\n",
       "      <td>...</td>\n",
       "      <td>...</td>\n",
       "      <td>...</td>\n",
       "      <td>...</td>\n",
       "      <td>...</td>\n",
       "      <td>...</td>\n",
       "    </tr>\n",
       "    <tr>\n",
       "      <th>229</th>\n",
       "      <td>Wallis and Futuna</td>\n",
       "      <td>0.000</td>\n",
       "      <td>0.000</td>\n",
       "      <td>0.000</td>\n",
       "      <td>0.000</td>\n",
       "      <td>0.774</td>\n",
       "      <td>0.0</td>\n",
       "      <td>0.000</td>\n",
       "    </tr>\n",
       "    <tr>\n",
       "      <th>230</th>\n",
       "      <td>Western Sahara</td>\n",
       "      <td>0.000</td>\n",
       "      <td>0.000</td>\n",
       "      <td>0.000</td>\n",
       "      <td>0.000</td>\n",
       "      <td>0.000</td>\n",
       "      <td>0.0</td>\n",
       "      <td>0.000</td>\n",
       "    </tr>\n",
       "    <tr>\n",
       "      <th>231</th>\n",
       "      <td>Yemen</td>\n",
       "      <td>23.044</td>\n",
       "      <td>4.978</td>\n",
       "      <td>14.862</td>\n",
       "      <td>13.637</td>\n",
       "      <td>532.155</td>\n",
       "      <td>0.0</td>\n",
       "      <td>31.843</td>\n",
       "    </tr>\n",
       "    <tr>\n",
       "      <th>232</th>\n",
       "      <td>Zambia</td>\n",
       "      <td>15.229</td>\n",
       "      <td>52.515</td>\n",
       "      <td>0.000</td>\n",
       "      <td>0.000</td>\n",
       "      <td>110.562</td>\n",
       "      <td>0.0</td>\n",
       "      <td>3113.444</td>\n",
       "    </tr>\n",
       "    <tr>\n",
       "      <th>233</th>\n",
       "      <td>Zimbabwe</td>\n",
       "      <td>17.781</td>\n",
       "      <td>443.439</td>\n",
       "      <td>0.000</td>\n",
       "      <td>0.000</td>\n",
       "      <td>131.139</td>\n",
       "      <td>0.0</td>\n",
       "      <td>1102.099</td>\n",
       "    </tr>\n",
       "  </tbody>\n",
       "</table>\n",
       "<p>234 rows × 8 columns</p>\n",
       "</div>"
      ],
      "text/plain": [
       "               country  cement_co2  coal_co2  flaring_co2   gas_co2   oil_co2  \\\n",
       "0          Afghanistan       1.936    53.599        5.659    19.444   125.172   \n",
       "1        Aland Islands       0.000     0.000        0.000     0.000     0.000   \n",
       "2              Albania      23.133    59.725        0.136    15.113   152.619   \n",
       "3              Algeria     234.658    89.688      687.099  2140.158  1569.952   \n",
       "4       American Samoa       0.000     0.000        0.000     0.000     0.000   \n",
       "..                 ...         ...       ...          ...       ...       ...   \n",
       "229  Wallis and Futuna       0.000     0.000        0.000     0.000     0.774   \n",
       "230     Western Sahara       0.000     0.000        0.000     0.000     0.000   \n",
       "231              Yemen      23.044     4.978       14.862    13.637   532.155   \n",
       "232             Zambia      15.229    52.515        0.000     0.000   110.562   \n",
       "233           Zimbabwe      17.781   443.439        0.000     0.000   131.139   \n",
       "\n",
       "     other_industry_co2  land_use_change_co2  \n",
       "0                   0.0               83.101  \n",
       "1                   0.0               -0.444  \n",
       "2                   0.0               77.348  \n",
       "3                   0.0              359.290  \n",
       "4                   0.0                0.406  \n",
       "..                  ...                  ...  \n",
       "229                 0.0                0.000  \n",
       "230                 0.0                0.000  \n",
       "231                 0.0               31.843  \n",
       "232                 0.0             3113.444  \n",
       "233                 0.0             1102.099  \n",
       "\n",
       "[234 rows x 8 columns]"
      ]
     },
     "execution_count": 48,
     "metadata": {},
     "output_type": "execute_result"
    }
   ],
   "source": [
    "carbon_sources = carbon_sources.iloc[:, [0,1,3,5,7,9,11,13]]\n",
    "carbon_sources"
   ]
  },
  {
   "cell_type": "markdown",
   "metadata": {},
   "source": [
    "**United States: main sources of CO<sub>2</sub> emission**"
   ]
  },
  {
   "cell_type": "code",
   "execution_count": 49,
   "metadata": {},
   "outputs": [
    {
     "data": {
      "text/html": [
       "<div>\n",
       "<style scoped>\n",
       "    .dataframe tbody tr th:only-of-type {\n",
       "        vertical-align: middle;\n",
       "    }\n",
       "\n",
       "    .dataframe tbody tr th {\n",
       "        vertical-align: top;\n",
       "    }\n",
       "\n",
       "    .dataframe thead th {\n",
       "        text-align: right;\n",
       "    }\n",
       "</style>\n",
       "<table border=\"1\" class=\"dataframe\">\n",
       "  <thead>\n",
       "    <tr style=\"text-align: right;\">\n",
       "      <th></th>\n",
       "      <th>country</th>\n",
       "      <th>cement_co2</th>\n",
       "      <th>coal_co2</th>\n",
       "      <th>flaring_co2</th>\n",
       "      <th>gas_co2</th>\n",
       "      <th>oil_co2</th>\n",
       "      <th>other_industry_co2</th>\n",
       "      <th>land_use_change_co2</th>\n",
       "    </tr>\n",
       "  </thead>\n",
       "  <tbody>\n",
       "    <tr>\n",
       "      <th>0</th>\n",
       "      <td>United States</td>\n",
       "      <td>1879.065</td>\n",
       "      <td>85102.503</td>\n",
       "      <td>1743.906</td>\n",
       "      <td>60822.129</td>\n",
       "      <td>116916.557</td>\n",
       "      <td>1118.114</td>\n",
       "      <td>6722.857</td>\n",
       "    </tr>\n",
       "  </tbody>\n",
       "</table>\n",
       "</div>"
      ],
      "text/plain": [
       "         country  cement_co2   coal_co2  flaring_co2    gas_co2     oil_co2  \\\n",
       "0  United States    1879.065  85102.503     1743.906  60822.129  116916.557   \n",
       "\n",
       "   other_industry_co2  land_use_change_co2  \n",
       "0            1118.114             6722.857  "
      ]
     },
     "execution_count": 49,
     "metadata": {},
     "output_type": "execute_result"
    }
   ],
   "source": [
    "united_states_sources = carbon_sources[carbon_sources[\"country\"] == \"United States\"].reset_index(drop = True)\n",
    "united_states_sources"
   ]
  },
  {
   "cell_type": "code",
   "execution_count": 50,
   "metadata": {},
   "outputs": [
    {
     "data": {
      "text/plain": [
       "Text(0.5, 1.0, 'Distribution of Sources of CO$_2$ Emissions in the United States in the Last 50 Years')"
      ]
     },
     "execution_count": 50,
     "metadata": {},
     "output_type": "execute_result"
    },
    {
     "data": {
      "image/png": "[encoded data removed]",
      "text/plain": [
       "<Figure size 1100x400 with 1 Axes>"
      ]
     },
     "metadata": {},
     "output_type": "display_data"
    }
   ],
   "source": [
    "us_sources_emissions_graph = plt.figure(figsize = (11, 4))\n",
    "sns.barplot(united_states_sources, orient= \"h\", palette = [\"darkgrey\", \"midnightblue\", \"orangered\", \"gold\", \"deeppink\", \"deepskyblue\", \"yellowgreen\"])\n",
    "plt.xlabel(\"CO$_2$ Emissions (Million Tons)\")\n",
    "plt.ylabel(\"Source of Carbon Dioxide Emissions\")\n",
    "plt.title(\"Distribution of Sources of CO$_2$ Emissions in the United States in the Last 50 Years\", size = 12)"
   ]
  },
  {
   "cell_type": "markdown",
   "metadata": {},
   "source": [
    "The largest source of CO<sub>2</sub> emissions in the United States in the last 50 years is oil, followed by coal and gas."
   ]
  },
  {
   "cell_type": "markdown",
   "metadata": {},
   "source": [
    "**China: main sources of CO<sub>2</sub> emission**"
   ]
  },
  {
   "cell_type": "code",
   "execution_count": 51,
   "metadata": {},
   "outputs": [
    {
     "data": {
      "text/html": [
       "<div>\n",
       "<style scoped>\n",
       "    .dataframe tbody tr th:only-of-type {\n",
       "        vertical-align: middle;\n",
       "    }\n",
       "\n",
       "    .dataframe tbody tr th {\n",
       "        vertical-align: top;\n",
       "    }\n",
       "\n",
       "    .dataframe thead th {\n",
       "        text-align: right;\n",
       "    }\n",
       "</style>\n",
       "<table border=\"1\" class=\"dataframe\">\n",
       "  <thead>\n",
       "    <tr style=\"text-align: right;\">\n",
       "      <th></th>\n",
       "      <th>country</th>\n",
       "      <th>cement_co2</th>\n",
       "      <th>coal_co2</th>\n",
       "      <th>flaring_co2</th>\n",
       "      <th>gas_co2</th>\n",
       "      <th>oil_co2</th>\n",
       "      <th>other_industry_co2</th>\n",
       "      <th>land_use_change_co2</th>\n",
       "    </tr>\n",
       "  </thead>\n",
       "  <tbody>\n",
       "    <tr>\n",
       "      <th>0</th>\n",
       "      <td>China</td>\n",
       "      <td>15565.225</td>\n",
       "      <td>177118.951</td>\n",
       "      <td>68.486</td>\n",
       "      <td>7130.394</td>\n",
       "      <td>33965.106</td>\n",
       "      <td>4634.241</td>\n",
       "      <td>36953.86</td>\n",
       "    </tr>\n",
       "  </tbody>\n",
       "</table>\n",
       "</div>"
      ],
      "text/plain": [
       "  country  cement_co2    coal_co2  flaring_co2   gas_co2    oil_co2  \\\n",
       "0   China   15565.225  177118.951       68.486  7130.394  33965.106   \n",
       "\n",
       "   other_industry_co2  land_use_change_co2  \n",
       "0            4634.241             36953.86  "
      ]
     },
     "execution_count": 51,
     "metadata": {},
     "output_type": "execute_result"
    }
   ],
   "source": [
    "china_sources = carbon_sources[carbon_sources[\"country\"] == \"China\"].reset_index(drop = True)\n",
    "china_sources"
   ]
  },
  {
   "cell_type": "code",
   "execution_count": 52,
   "metadata": {},
   "outputs": [
    {
     "data": {
      "text/plain": [
       "Text(0.5, 1.0, 'Distribution of Sources of CO$_2$ Emissions in China in the Last 50 Years')"
      ]
     },
     "execution_count": 52,
     "metadata": {},
     "output_type": "execute_result"
    },
    {
     "data": {
      "image/png": "[encoded data removed]",
      "text/plain": [
       "<Figure size 1100x400 with 1 Axes>"
      ]
     },
     "metadata": {},
     "output_type": "display_data"
    }
   ],
   "source": [
    "china_sources_emissions_graph = plt.figure(figsize = (11, 4))\n",
    "sns.barplot(china_sources, orient= \"h\", palette = [\"darkgrey\", \"midnightblue\", \"orangered\", \"gold\", \"deeppink\", \"deepskyblue\", \"yellowgreen\"])\n",
    "plt.xlabel(\"CO$_2$ Emissions (Million Tons)\")\n",
    "plt.ylabel(\"Source of Carbon Dioxide Emissions\")\n",
    "plt.title(\"Distribution of Sources of CO$_2$ Emissions in China in the Last 50 Years\", size = 12)"
   ]
  },
  {
   "cell_type": "markdown",
   "metadata": {},
   "source": [
    "The largest source of carbon dioxide emissions in China over the past 50 years is coal. The second largest source of emissions is land use change. These emissions are due to deforestation, creation of new cities, and other changes in the environment. This is due to China's development in recent years, which can also be seen in the emissions from cement, which are high."
   ]
  },
  {
   "cell_type": "markdown",
   "metadata": {},
   "source": [
    "**Germany: main sources of CO<sub>2</sub> emission**"
   ]
  },
  {
   "cell_type": "code",
   "execution_count": 53,
   "metadata": {},
   "outputs": [
    {
     "data": {
      "text/html": [
       "<div>\n",
       "<style scoped>\n",
       "    .dataframe tbody tr th:only-of-type {\n",
       "        vertical-align: middle;\n",
       "    }\n",
       "\n",
       "    .dataframe tbody tr th {\n",
       "        vertical-align: top;\n",
       "    }\n",
       "\n",
       "    .dataframe thead th {\n",
       "        text-align: right;\n",
       "    }\n",
       "</style>\n",
       "<table border=\"1\" class=\"dataframe\">\n",
       "  <thead>\n",
       "    <tr style=\"text-align: right;\">\n",
       "      <th></th>\n",
       "      <th>country</th>\n",
       "      <th>cement_co2</th>\n",
       "      <th>coal_co2</th>\n",
       "      <th>flaring_co2</th>\n",
       "      <th>gas_co2</th>\n",
       "      <th>oil_co2</th>\n",
       "      <th>other_industry_co2</th>\n",
       "      <th>land_use_change_co2</th>\n",
       "    </tr>\n",
       "  </thead>\n",
       "  <tbody>\n",
       "    <tr>\n",
       "      <th>0</th>\n",
       "      <td>Germany</td>\n",
       "      <td>822.419</td>\n",
       "      <td>22189.283</td>\n",
       "      <td>93.573</td>\n",
       "      <td>7073.328</td>\n",
       "      <td>17018.92</td>\n",
       "      <td>294.508</td>\n",
       "      <td>-1458.602</td>\n",
       "    </tr>\n",
       "  </tbody>\n",
       "</table>\n",
       "</div>"
      ],
      "text/plain": [
       "   country  cement_co2   coal_co2  flaring_co2   gas_co2   oil_co2  \\\n",
       "0  Germany     822.419  22189.283       93.573  7073.328  17018.92   \n",
       "\n",
       "   other_industry_co2  land_use_change_co2  \n",
       "0             294.508            -1458.602  "
      ]
     },
     "execution_count": 53,
     "metadata": {},
     "output_type": "execute_result"
    }
   ],
   "source": [
    "germany_sources = carbon_sources[carbon_sources[\"country\"] == \"Germany\"].reset_index(drop = True)\n",
    "germany_sources"
   ]
  },
  {
   "cell_type": "code",
   "execution_count": 54,
   "metadata": {},
   "outputs": [
    {
     "data": {
      "text/plain": [
       "Text(0.5, 1.0, 'Distribution of Sources of CO$_2$ Emissions in Germany in the Last 50 Years')"
      ]
     },
     "execution_count": 54,
     "metadata": {},
     "output_type": "execute_result"
    },
    {
     "data": {
      "image/png": "[encoded data removed]",
      "text/plain": [
       "<Figure size 1400x400 with 1 Axes>"
      ]
     },
     "metadata": {},
     "output_type": "display_data"
    }
   ],
   "source": [
    "germany_sources_emissions_graph  = plt.figure(figsize = (14, 4))\n",
    "sns.barplot(germany_sources, orient= \"h\", palette = [\"darkgrey\", \"midnightblue\", \"orangered\", \"gold\", \"deeppink\", \"deepskyblue\", \"yellowgreen\"])\n",
    "plt.xlabel(\"CO$_2$ Emissions (Million Tons)\")\n",
    "plt.ylabel(\"Source of Carbon Dioxide Emissions\")\n",
    "plt.title(\"Distribution of Sources of CO$_2$ Emissions in Germany in the Last 50 Years\", size = 12)"
   ]
  },
  {
   "cell_type": "markdown",
   "metadata": {},
   "source": [
    "The largest source of carbon emissions in Germany comes from coal, followed by oil and gas. It is worth noting that emissions from land use change are negative. This means that land use change has a negative effect on emissions, i.e. it sequesters CO<sub>2</sub>, which means that CO<sub>2</sub> is stored after being captured from industrial facilities or is directly removed from the atmosphere."
   ]
  },
  {
   "cell_type": "markdown",
   "metadata": {},
   "source": [
    "### **Emissions from land use change**\n",
    "\n",
    "Land plays an important role in the global cycles of greenhouse gases such as carbon dioxide. Land use activities can lead to emissions of carbon dioxide into the atmosphere or its removal from the atmosphere. \n",
    "\n",
    "This section examines the countries with the highest negative and positive carbon dioxide emissions from land use changes. Positive emissions mean that carbon dioxide is emitted into the atmosphere, while negative emissions mean that carbon dioxide is captured and removed from the atmosphere."
   ]
  },
  {
   "cell_type": "code",
   "execution_count": 55,
   "metadata": {},
   "outputs": [
    {
     "data": {
      "text/html": [
       "<div>\n",
       "<style scoped>\n",
       "    .dataframe tbody tr th:only-of-type {\n",
       "        vertical-align: middle;\n",
       "    }\n",
       "\n",
       "    .dataframe tbody tr th {\n",
       "        vertical-align: top;\n",
       "    }\n",
       "\n",
       "    .dataframe thead th {\n",
       "        text-align: right;\n",
       "    }\n",
       "</style>\n",
       "<table border=\"1\" class=\"dataframe\">\n",
       "  <thead>\n",
       "    <tr style=\"text-align: right;\">\n",
       "      <th></th>\n",
       "      <th>country</th>\n",
       "      <th>land_use_change_co2</th>\n",
       "    </tr>\n",
       "  </thead>\n",
       "  <tbody>\n",
       "    <tr>\n",
       "      <th>0</th>\n",
       "      <td>Afghanistan</td>\n",
       "      <td>83.101</td>\n",
       "    </tr>\n",
       "    <tr>\n",
       "      <th>1</th>\n",
       "      <td>Aland Islands</td>\n",
       "      <td>-0.444</td>\n",
       "    </tr>\n",
       "    <tr>\n",
       "      <th>2</th>\n",
       "      <td>Albania</td>\n",
       "      <td>77.348</td>\n",
       "    </tr>\n",
       "    <tr>\n",
       "      <th>3</th>\n",
       "      <td>Algeria</td>\n",
       "      <td>359.290</td>\n",
       "    </tr>\n",
       "    <tr>\n",
       "      <th>4</th>\n",
       "      <td>American Samoa</td>\n",
       "      <td>0.406</td>\n",
       "    </tr>\n",
       "    <tr>\n",
       "      <th>...</th>\n",
       "      <td>...</td>\n",
       "      <td>...</td>\n",
       "    </tr>\n",
       "    <tr>\n",
       "      <th>229</th>\n",
       "      <td>Wallis and Futuna</td>\n",
       "      <td>0.000</td>\n",
       "    </tr>\n",
       "    <tr>\n",
       "      <th>230</th>\n",
       "      <td>Western Sahara</td>\n",
       "      <td>0.000</td>\n",
       "    </tr>\n",
       "    <tr>\n",
       "      <th>231</th>\n",
       "      <td>Yemen</td>\n",
       "      <td>31.843</td>\n",
       "    </tr>\n",
       "    <tr>\n",
       "      <th>232</th>\n",
       "      <td>Zambia</td>\n",
       "      <td>3113.444</td>\n",
       "    </tr>\n",
       "    <tr>\n",
       "      <th>233</th>\n",
       "      <td>Zimbabwe</td>\n",
       "      <td>1102.099</td>\n",
       "    </tr>\n",
       "  </tbody>\n",
       "</table>\n",
       "<p>234 rows × 2 columns</p>\n",
       "</div>"
      ],
      "text/plain": [
       "               country  land_use_change_co2\n",
       "0          Afghanistan               83.101\n",
       "1        Aland Islands               -0.444\n",
       "2              Albania               77.348\n",
       "3              Algeria              359.290\n",
       "4       American Samoa                0.406\n",
       "..                 ...                  ...\n",
       "229  Wallis and Futuna                0.000\n",
       "230     Western Sahara                0.000\n",
       "231              Yemen               31.843\n",
       "232             Zambia             3113.444\n",
       "233           Zimbabwe             1102.099\n",
       "\n",
       "[234 rows x 2 columns]"
      ]
     },
     "execution_count": 55,
     "metadata": {},
     "output_type": "execute_result"
    }
   ],
   "source": [
    "land_use_change_emissions = carbon_sources.groupby(\"country\")[\"land_use_change_co2\"].sum().reset_index()\n",
    "land_use_change_emissions"
   ]
  },
  {
   "cell_type": "markdown",
   "metadata": {},
   "source": [
    "* **Positive land use change emissions**"
   ]
  },
  {
   "cell_type": "code",
   "execution_count": 56,
   "metadata": {},
   "outputs": [
    {
     "data": {
      "text/html": [
       "<div>\n",
       "<style scoped>\n",
       "    .dataframe tbody tr th:only-of-type {\n",
       "        vertical-align: middle;\n",
       "    }\n",
       "\n",
       "    .dataframe tbody tr th {\n",
       "        vertical-align: top;\n",
       "    }\n",
       "\n",
       "    .dataframe thead th {\n",
       "        text-align: right;\n",
       "    }\n",
       "</style>\n",
       "<table border=\"1\" class=\"dataframe\">\n",
       "  <thead>\n",
       "    <tr style=\"text-align: right;\">\n",
       "      <th></th>\n",
       "      <th>country</th>\n",
       "      <th>land_use_change_co2</th>\n",
       "    </tr>\n",
       "  </thead>\n",
       "  <tbody>\n",
       "    <tr>\n",
       "      <th>30</th>\n",
       "      <td>Brazil</td>\n",
       "      <td>72181.202</td>\n",
       "    </tr>\n",
       "    <tr>\n",
       "      <th>96</th>\n",
       "      <td>Indonesia</td>\n",
       "      <td>39672.290</td>\n",
       "    </tr>\n",
       "    <tr>\n",
       "      <th>43</th>\n",
       "      <td>China</td>\n",
       "      <td>36953.860</td>\n",
       "    </tr>\n",
       "    <tr>\n",
       "      <th>56</th>\n",
       "      <td>Democratic Republic of Congo</td>\n",
       "      <td>13350.517</td>\n",
       "    </tr>\n",
       "    <tr>\n",
       "      <th>172</th>\n",
       "      <td>Russia</td>\n",
       "      <td>10818.656</td>\n",
       "    </tr>\n",
       "    <tr>\n",
       "      <th>38</th>\n",
       "      <td>Canada</td>\n",
       "      <td>10237.328</td>\n",
       "    </tr>\n",
       "    <tr>\n",
       "      <th>95</th>\n",
       "      <td>India</td>\n",
       "      <td>9427.256</td>\n",
       "    </tr>\n",
       "    <tr>\n",
       "      <th>208</th>\n",
       "      <td>Thailand</td>\n",
       "      <td>8165.515</td>\n",
       "    </tr>\n",
       "    <tr>\n",
       "      <th>125</th>\n",
       "      <td>Malaysia</td>\n",
       "      <td>7600.384</td>\n",
       "    </tr>\n",
       "    <tr>\n",
       "      <th>222</th>\n",
       "      <td>United States</td>\n",
       "      <td>6722.857</td>\n",
       "    </tr>\n",
       "  </tbody>\n",
       "</table>\n",
       "</div>"
      ],
      "text/plain": [
       "                          country  land_use_change_co2\n",
       "30                         Brazil            72181.202\n",
       "96                      Indonesia            39672.290\n",
       "43                          China            36953.860\n",
       "56   Democratic Republic of Congo            13350.517\n",
       "172                        Russia            10818.656\n",
       "38                         Canada            10237.328\n",
       "95                          India             9427.256\n",
       "208                      Thailand             8165.515\n",
       "125                      Malaysia             7600.384\n",
       "222                 United States             6722.857"
      ]
     },
     "execution_count": 56,
     "metadata": {},
     "output_type": "execute_result"
    }
   ],
   "source": [
    "positive_land_use_change_emissions = land_use_change_emissions.sort_values(by = \"land_use_change_co2\", ascending = False)[0:10]\n",
    "positive_land_use_change_emissions"
   ]
  },
  {
   "cell_type": "code",
   "execution_count": 57,
   "metadata": {},
   "outputs": [
    {
     "data": {
      "text/plain": [
       "Text(0.5, 1.0, 'Countries with Positive Land Change CO$_2$ Emissions in the Last 50 Years')"
      ]
     },
     "execution_count": 57,
     "metadata": {},
     "output_type": "execute_result"
    },
    {
     "data": {
      "image/png": "[encoded data removed]",
      "text/plain": [
       "<Figure size 1100x400 with 1 Axes>"
      ]
     },
     "metadata": {},
     "output_type": "display_data"
    }
   ],
   "source": [
    "positive_land_use_change_emissions_graph = plt.figure(figsize = (11, 4))\n",
    "sns.barplot(positive_land_use_change_emissions, x = \"country\", y = \"land_use_change_co2\", errorbar = None, hue = \"country\",\n",
    "            palette = [\"deepskyblue\", \"crimson\", \"yellowgreen\", \"hotpink\", \"gold\", \"darkturquoise\", \"mediumorchid\", \"orangered\", \"orange\", \"darkgrey\" ])\n",
    "plt.xlabel(\"Country\")\n",
    "plt.ylabel(\"Total CO$_2$ Emissions (Million Tons)\")\n",
    "plt.title(\"Countries with Positive Land Change CO$_2$ Emissions in the Last 50 Years\", size = 12)"
   ]
  },
  {
   "cell_type": "markdown",
   "metadata": {},
   "source": [
    "The countries that emit the most CO<sub>2</sub> into the atmosphere due to land use change are Brazil, Indonesia and China. "
   ]
  },
  {
   "cell_type": "markdown",
   "metadata": {},
   "source": [
    "* **Negative land use change emissions**"
   ]
  },
  {
   "cell_type": "code",
   "execution_count": 58,
   "metadata": {},
   "outputs": [
    {
     "data": {
      "text/html": [
       "<div>\n",
       "<style scoped>\n",
       "    .dataframe tbody tr th:only-of-type {\n",
       "        vertical-align: middle;\n",
       "    }\n",
       "\n",
       "    .dataframe tbody tr th {\n",
       "        vertical-align: top;\n",
       "    }\n",
       "\n",
       "    .dataframe thead th {\n",
       "        text-align: right;\n",
       "    }\n",
       "</style>\n",
       "<table border=\"1\" class=\"dataframe\">\n",
       "  <thead>\n",
       "    <tr style=\"text-align: right;\">\n",
       "      <th></th>\n",
       "      <th>country</th>\n",
       "      <th>land_use_change_co2</th>\n",
       "    </tr>\n",
       "  </thead>\n",
       "  <tbody>\n",
       "    <tr>\n",
       "      <th>102</th>\n",
       "      <td>Italy</td>\n",
       "      <td>-2523.693</td>\n",
       "    </tr>\n",
       "    <tr>\n",
       "      <th>166</th>\n",
       "      <td>Poland</td>\n",
       "      <td>-2169.418</td>\n",
       "    </tr>\n",
       "    <tr>\n",
       "      <th>73</th>\n",
       "      <td>France</td>\n",
       "      <td>-1476.555</td>\n",
       "    </tr>\n",
       "    <tr>\n",
       "      <th>79</th>\n",
       "      <td>Germany</td>\n",
       "      <td>-1458.602</td>\n",
       "    </tr>\n",
       "    <tr>\n",
       "      <th>196</th>\n",
       "      <td>Spain</td>\n",
       "      <td>-810.477</td>\n",
       "    </tr>\n",
       "    <tr>\n",
       "      <th>107</th>\n",
       "      <td>Kazakhstan</td>\n",
       "      <td>-689.823</td>\n",
       "    </tr>\n",
       "    <tr>\n",
       "      <th>78</th>\n",
       "      <td>Georgia</td>\n",
       "      <td>-494.532</td>\n",
       "    </tr>\n",
       "    <tr>\n",
       "      <th>55</th>\n",
       "      <td>Czechia</td>\n",
       "      <td>-398.644</td>\n",
       "    </tr>\n",
       "    <tr>\n",
       "      <th>184</th>\n",
       "      <td>Serbia</td>\n",
       "      <td>-385.783</td>\n",
       "    </tr>\n",
       "    <tr>\n",
       "      <th>93</th>\n",
       "      <td>Hungary</td>\n",
       "      <td>-314.115</td>\n",
       "    </tr>\n",
       "  </tbody>\n",
       "</table>\n",
       "</div>"
      ],
      "text/plain": [
       "        country  land_use_change_co2\n",
       "102       Italy            -2523.693\n",
       "166      Poland            -2169.418\n",
       "73       France            -1476.555\n",
       "79      Germany            -1458.602\n",
       "196       Spain             -810.477\n",
       "107  Kazakhstan             -689.823\n",
       "78      Georgia             -494.532\n",
       "55      Czechia             -398.644\n",
       "184      Serbia             -385.783\n",
       "93      Hungary             -314.115"
      ]
     },
     "execution_count": 58,
     "metadata": {},
     "output_type": "execute_result"
    }
   ],
   "source": [
    "negative_land_use_change_emissions = land_use_change_emissions.sort_values(by = \"land_use_change_co2\", ascending = True)[0:10]\n",
    "negative_land_use_change_emissions"
   ]
  },
  {
   "cell_type": "code",
   "execution_count": 59,
   "metadata": {},
   "outputs": [
    {
     "data": {
      "text/plain": [
       "Text(0.5, 1.0, 'Countries with Negative Land Change CO$_2$ Emissions in the Last 50 Years')"
      ]
     },
     "execution_count": 59,
     "metadata": {},
     "output_type": "execute_result"
    },
    {
     "data": {
      "image/png": "[encoded data removed]",
      "text/plain": [
       "<Figure size 1100x400 with 1 Axes>"
      ]
     },
     "metadata": {},
     "output_type": "display_data"
    }
   ],
   "source": [
    "negative_land_use_change_emission_graph = plt.figure(figsize = (11, 4))\n",
    "sns.barplot(negative_land_use_change_emissions, x = \"country\", y = \"land_use_change_co2\", errorbar = None, hue = \"country\",\n",
    "            palette = [\"deepskyblue\", \"crimson\", \"yellowgreen\", \"hotpink\", \"gold\", \"darkturquoise\", \"mediumorchid\", \"orangered\", \"orange\", \"darkgrey\" ])\n",
    "plt.xlabel(\"Country\")\n",
    "plt.ylabel(\"Total CO$_2$ Emissions (Million Tons)\")\n",
    "plt.title(\"Countries with Negative Land Change CO$_2$ Emissions in the Last 50 Years\", size = 12)"
   ]
  },
  {
   "cell_type": "markdown",
   "metadata": {},
   "source": [
    "The country with the highest negative emissions from land use change is Italy, followed by Poland, France, Germany and Spain.\n",
    "\n",
    "It should be noted that all countries are European except Kazakhstan and Georgia (which is in both the Asian and European continents)."
   ]
  },
  {
   "cell_type": "markdown",
   "metadata": {},
   "source": [
    "### **Correlation between GDP, population and total CO<sub>2</sub> emissions**"
   ]
  },
  {
   "cell_type": "code",
   "execution_count": 60,
   "metadata": {},
   "outputs": [
    {
     "data": {
      "text/html": [
       "<div>\n",
       "<style scoped>\n",
       "    .dataframe tbody tr th:only-of-type {\n",
       "        vertical-align: middle;\n",
       "    }\n",
       "\n",
       "    .dataframe tbody tr th {\n",
       "        vertical-align: top;\n",
       "    }\n",
       "\n",
       "    .dataframe thead th {\n",
       "        text-align: right;\n",
       "    }\n",
       "</style>\n",
       "<table border=\"1\" class=\"dataframe\">\n",
       "  <thead>\n",
       "    <tr style=\"text-align: right;\">\n",
       "      <th></th>\n",
       "      <th>gdp</th>\n",
       "      <th>population</th>\n",
       "      <th>total_co2</th>\n",
       "    </tr>\n",
       "  </thead>\n",
       "  <tbody>\n",
       "    <tr>\n",
       "      <th>0</th>\n",
       "      <td>1.577051e+10</td>\n",
       "      <td>11015853.0</td>\n",
       "      <td>1.894</td>\n",
       "    </tr>\n",
       "    <tr>\n",
       "      <th>1</th>\n",
       "      <td>1.317055e+10</td>\n",
       "      <td>11286753.0</td>\n",
       "      <td>1.530</td>\n",
       "    </tr>\n",
       "    <tr>\n",
       "      <th>2</th>\n",
       "      <td>1.356863e+10</td>\n",
       "      <td>11575308.0</td>\n",
       "      <td>1.635</td>\n",
       "    </tr>\n",
       "    <tr>\n",
       "      <th>3</th>\n",
       "      <td>1.430911e+10</td>\n",
       "      <td>11869881.0</td>\n",
       "      <td>1.913</td>\n",
       "    </tr>\n",
       "    <tr>\n",
       "      <th>4</th>\n",
       "      <td>1.517777e+10</td>\n",
       "      <td>12157390.0</td>\n",
       "      <td>2.121</td>\n",
       "    </tr>\n",
       "    <tr>\n",
       "      <th>...</th>\n",
       "      <td>...</td>\n",
       "      <td>...</td>\n",
       "      <td>...</td>\n",
       "    </tr>\n",
       "    <tr>\n",
       "      <th>13188</th>\n",
       "      <td>2.194784e+10</td>\n",
       "      <td>14751101.0</td>\n",
       "      <td>9.596</td>\n",
       "    </tr>\n",
       "    <tr>\n",
       "      <th>13189</th>\n",
       "      <td>2.271535e+10</td>\n",
       "      <td>15052191.0</td>\n",
       "      <td>11.795</td>\n",
       "    </tr>\n",
       "    <tr>\n",
       "      <th>13190</th>\n",
       "      <td>0.000000e+00</td>\n",
       "      <td>15354606.0</td>\n",
       "      <td>11.115</td>\n",
       "    </tr>\n",
       "    <tr>\n",
       "      <th>13191</th>\n",
       "      <td>0.000000e+00</td>\n",
       "      <td>15669663.0</td>\n",
       "      <td>10.608</td>\n",
       "    </tr>\n",
       "    <tr>\n",
       "      <th>13192</th>\n",
       "      <td>0.000000e+00</td>\n",
       "      <td>15993525.0</td>\n",
       "      <td>11.296</td>\n",
       "    </tr>\n",
       "  </tbody>\n",
       "</table>\n",
       "<p>11702 rows × 3 columns</p>\n",
       "</div>"
      ],
      "text/plain": [
       "                gdp  population  total_co2\n",
       "0      1.577051e+10  11015853.0      1.894\n",
       "1      1.317055e+10  11286753.0      1.530\n",
       "2      1.356863e+10  11575308.0      1.635\n",
       "3      1.430911e+10  11869881.0      1.913\n",
       "4      1.517777e+10  12157390.0      2.121\n",
       "...             ...         ...        ...\n",
       "13188  2.194784e+10  14751101.0      9.596\n",
       "13189  2.271535e+10  15052191.0     11.795\n",
       "13190  0.000000e+00  15354606.0     11.115\n",
       "13191  0.000000e+00  15669663.0     10.608\n",
       "13192  0.000000e+00  15993525.0     11.296\n",
       "\n",
       "[11702 rows x 3 columns]"
      ]
     },
     "execution_count": 60,
     "metadata": {},
     "output_type": "execute_result"
    }
   ],
   "source": [
    "features = [\"gdp\", \"population\", \"total_co2\"]\n",
    "\n",
    "carbon_emission_features = carbon_emission[features]\n",
    "carbon_emission_features"
   ]
  },
  {
   "cell_type": "code",
   "execution_count": 61,
   "metadata": {},
   "outputs": [
    {
     "data": {
      "text/html": [
       "<div>\n",
       "<style scoped>\n",
       "    .dataframe tbody tr th:only-of-type {\n",
       "        vertical-align: middle;\n",
       "    }\n",
       "\n",
       "    .dataframe tbody tr th {\n",
       "        vertical-align: top;\n",
       "    }\n",
       "\n",
       "    .dataframe thead th {\n",
       "        text-align: right;\n",
       "    }\n",
       "</style>\n",
       "<table border=\"1\" class=\"dataframe\">\n",
       "  <thead>\n",
       "    <tr style=\"text-align: right;\">\n",
       "      <th></th>\n",
       "      <th>gdp</th>\n",
       "      <th>population</th>\n",
       "      <th>total_co2</th>\n",
       "    </tr>\n",
       "  </thead>\n",
       "  <tbody>\n",
       "    <tr>\n",
       "      <th>gdp</th>\n",
       "      <td>1.000000</td>\n",
       "      <td>0.591066</td>\n",
       "      <td>0.866561</td>\n",
       "    </tr>\n",
       "    <tr>\n",
       "      <th>population</th>\n",
       "      <td>0.591066</td>\n",
       "      <td>1.000000</td>\n",
       "      <td>0.669667</td>\n",
       "    </tr>\n",
       "    <tr>\n",
       "      <th>total_co2</th>\n",
       "      <td>0.866561</td>\n",
       "      <td>0.669667</td>\n",
       "      <td>1.000000</td>\n",
       "    </tr>\n",
       "  </tbody>\n",
       "</table>\n",
       "</div>"
      ],
      "text/plain": [
       "                 gdp  population  total_co2\n",
       "gdp         1.000000    0.591066   0.866561\n",
       "population  0.591066    1.000000   0.669667\n",
       "total_co2   0.866561    0.669667   1.000000"
      ]
     },
     "execution_count": 61,
     "metadata": {},
     "output_type": "execute_result"
    }
   ],
   "source": [
    "corr_gdp_carbon_emissions = carbon_emission_features.corr(method = \"pearson\", min_periods = 1)\n",
    "corr_gdp_carbon_emissions"
   ]
  },
  {
   "cell_type": "code",
   "execution_count": 62,
   "metadata": {},
   "outputs": [
    {
     "data": {
      "text/plain": [
       "Text(0.5, 1.0, 'Correlation Heatmap')"
      ]
     },
     "execution_count": 62,
     "metadata": {},
     "output_type": "execute_result"
    },
    {
     "data": {
      "image/png": "[encoded data removed]",
      "text/plain": [
       "<Figure size 1100x400 with 2 Axes>"
      ]
     },
     "metadata": {},
     "output_type": "display_data"
    }
   ],
   "source": [
    "corr_gdp_carbon_emissions_heatmap_graph = plt.figure(figsize = (11, 4))\n",
    "sns.heatmap(corr_gdp_carbon_emissions, linewidths = 0.5, annot = True, cmap = \"flare\")\n",
    "plt.title(\"Correlation Heatmap\", size = 12)"
   ]
  },
  {
   "cell_type": "markdown",
   "metadata": {},
   "source": [
    "There is a strong positive correlation between total CO<sub>2</sub> emissions and the gdp of a country. \n",
    "\n",
    "There is a moderate positive correlation between total CO<sub>2</sub> emission and population."
   ]
  },
  {
   "cell_type": "markdown",
   "metadata": {},
   "source": [
    "### **Correlation between carbon emission sources and total CO<sub>2</sub> emissions**"
   ]
  },
  {
   "cell_type": "code",
   "execution_count": 63,
   "metadata": {},
   "outputs": [
    {
     "data": {
      "text/html": [
       "<div>\n",
       "<style scoped>\n",
       "    .dataframe tbody tr th:only-of-type {\n",
       "        vertical-align: middle;\n",
       "    }\n",
       "\n",
       "    .dataframe tbody tr th {\n",
       "        vertical-align: top;\n",
       "    }\n",
       "\n",
       "    .dataframe thead th {\n",
       "        text-align: right;\n",
       "    }\n",
       "</style>\n",
       "<table border=\"1\" class=\"dataframe\">\n",
       "  <thead>\n",
       "    <tr style=\"text-align: right;\">\n",
       "      <th></th>\n",
       "      <th>cement_co2</th>\n",
       "      <th>coal_co2</th>\n",
       "      <th>flaring_co2</th>\n",
       "      <th>gas_co2</th>\n",
       "      <th>oil_co2</th>\n",
       "      <th>other_industry_co2</th>\n",
       "      <th>land_use_change_co2</th>\n",
       "      <th>total_co2</th>\n",
       "    </tr>\n",
       "  </thead>\n",
       "  <tbody>\n",
       "    <tr>\n",
       "      <th>0</th>\n",
       "      <td>0.043</td>\n",
       "      <td>0.359</td>\n",
       "      <td>0.304</td>\n",
       "      <td>0.440</td>\n",
       "      <td>0.747</td>\n",
       "      <td>0.0</td>\n",
       "      <td>6.265</td>\n",
       "      <td>1.894</td>\n",
       "    </tr>\n",
       "    <tr>\n",
       "      <th>1</th>\n",
       "      <td>0.046</td>\n",
       "      <td>0.191</td>\n",
       "      <td>0.366</td>\n",
       "      <td>0.300</td>\n",
       "      <td>0.627</td>\n",
       "      <td>0.0</td>\n",
       "      <td>6.046</td>\n",
       "      <td>1.530</td>\n",
       "    </tr>\n",
       "    <tr>\n",
       "      <th>2</th>\n",
       "      <td>0.067</td>\n",
       "      <td>0.311</td>\n",
       "      <td>0.223</td>\n",
       "      <td>0.333</td>\n",
       "      <td>0.702</td>\n",
       "      <td>0.0</td>\n",
       "      <td>4.983</td>\n",
       "      <td>1.635</td>\n",
       "    </tr>\n",
       "    <tr>\n",
       "      <th>3</th>\n",
       "      <td>0.070</td>\n",
       "      <td>0.305</td>\n",
       "      <td>0.367</td>\n",
       "      <td>0.400</td>\n",
       "      <td>0.771</td>\n",
       "      <td>0.0</td>\n",
       "      <td>4.617</td>\n",
       "      <td>1.913</td>\n",
       "    </tr>\n",
       "    <tr>\n",
       "      <th>4</th>\n",
       "      <td>0.069</td>\n",
       "      <td>0.399</td>\n",
       "      <td>0.304</td>\n",
       "      <td>0.475</td>\n",
       "      <td>0.874</td>\n",
       "      <td>0.0</td>\n",
       "      <td>4.140</td>\n",
       "      <td>2.121</td>\n",
       "    </tr>\n",
       "    <tr>\n",
       "      <th>...</th>\n",
       "      <td>...</td>\n",
       "      <td>...</td>\n",
       "      <td>...</td>\n",
       "      <td>...</td>\n",
       "      <td>...</td>\n",
       "      <td>...</td>\n",
       "      <td>...</td>\n",
       "      <td>...</td>\n",
       "    </tr>\n",
       "    <tr>\n",
       "      <th>13188</th>\n",
       "      <td>0.469</td>\n",
       "      <td>5.900</td>\n",
       "      <td>0.000</td>\n",
       "      <td>0.000</td>\n",
       "      <td>3.227</td>\n",
       "      <td>0.0</td>\n",
       "      <td>9.490</td>\n",
       "      <td>9.596</td>\n",
       "    </tr>\n",
       "    <tr>\n",
       "      <th>13189</th>\n",
       "      <td>0.558</td>\n",
       "      <td>7.178</td>\n",
       "      <td>0.000</td>\n",
       "      <td>0.000</td>\n",
       "      <td>4.060</td>\n",
       "      <td>0.0</td>\n",
       "      <td>8.830</td>\n",
       "      <td>11.795</td>\n",
       "    </tr>\n",
       "    <tr>\n",
       "      <th>13190</th>\n",
       "      <td>0.570</td>\n",
       "      <td>6.888</td>\n",
       "      <td>0.000</td>\n",
       "      <td>0.000</td>\n",
       "      <td>3.657</td>\n",
       "      <td>0.0</td>\n",
       "      <td>8.317</td>\n",
       "      <td>11.115</td>\n",
       "    </tr>\n",
       "    <tr>\n",
       "      <th>13191</th>\n",
       "      <td>0.570</td>\n",
       "      <td>6.722</td>\n",
       "      <td>0.000</td>\n",
       "      <td>0.000</td>\n",
       "      <td>3.317</td>\n",
       "      <td>0.0</td>\n",
       "      <td>7.878</td>\n",
       "      <td>10.608</td>\n",
       "    </tr>\n",
       "    <tr>\n",
       "      <th>13192</th>\n",
       "      <td>0.570</td>\n",
       "      <td>7.226</td>\n",
       "      <td>0.000</td>\n",
       "      <td>0.000</td>\n",
       "      <td>3.501</td>\n",
       "      <td>0.0</td>\n",
       "      <td>7.475</td>\n",
       "      <td>11.296</td>\n",
       "    </tr>\n",
       "  </tbody>\n",
       "</table>\n",
       "<p>11702 rows × 8 columns</p>\n",
       "</div>"
      ],
      "text/plain": [
       "       cement_co2  coal_co2  flaring_co2  gas_co2  oil_co2  \\\n",
       "0           0.043     0.359        0.304    0.440    0.747   \n",
       "1           0.046     0.191        0.366    0.300    0.627   \n",
       "2           0.067     0.311        0.223    0.333    0.702   \n",
       "3           0.070     0.305        0.367    0.400    0.771   \n",
       "4           0.069     0.399        0.304    0.475    0.874   \n",
       "...           ...       ...          ...      ...      ...   \n",
       "13188       0.469     5.900        0.000    0.000    3.227   \n",
       "13189       0.558     7.178        0.000    0.000    4.060   \n",
       "13190       0.570     6.888        0.000    0.000    3.657   \n",
       "13191       0.570     6.722        0.000    0.000    3.317   \n",
       "13192       0.570     7.226        0.000    0.000    3.501   \n",
       "\n",
       "       other_industry_co2  land_use_change_co2  total_co2  \n",
       "0                     0.0                6.265      1.894  \n",
       "1                     0.0                6.046      1.530  \n",
       "2                     0.0                4.983      1.635  \n",
       "3                     0.0                4.617      1.913  \n",
       "4                     0.0                4.140      2.121  \n",
       "...                   ...                  ...        ...  \n",
       "13188                 0.0                9.490      9.596  \n",
       "13189                 0.0                8.830     11.795  \n",
       "13190                 0.0                8.317     11.115  \n",
       "13191                 0.0                7.878     10.608  \n",
       "13192                 0.0                7.475     11.296  \n",
       "\n",
       "[11702 rows x 8 columns]"
      ]
     },
     "execution_count": 63,
     "metadata": {},
     "output_type": "execute_result"
    }
   ],
   "source": [
    "feat = [\"cement_co2\", \"coal_co2\", \"flaring_co2\", \"gas_co2\", \"oil_co2\", \"other_industry_co2\", \"land_use_change_co2\", \"total_co2\"]\n",
    "\n",
    "carbon_emission_feat = carbon_emission[feat]\n",
    "carbon_emission_feat"
   ]
  },
  {
   "cell_type": "code",
   "execution_count": 64,
   "metadata": {},
   "outputs": [
    {
     "data": {
      "text/html": [
       "<div>\n",
       "<style scoped>\n",
       "    .dataframe tbody tr th:only-of-type {\n",
       "        vertical-align: middle;\n",
       "    }\n",
       "\n",
       "    .dataframe tbody tr th {\n",
       "        vertical-align: top;\n",
       "    }\n",
       "\n",
       "    .dataframe thead th {\n",
       "        text-align: right;\n",
       "    }\n",
       "</style>\n",
       "<table border=\"1\" class=\"dataframe\">\n",
       "  <thead>\n",
       "    <tr style=\"text-align: right;\">\n",
       "      <th></th>\n",
       "      <th>cement_co2</th>\n",
       "      <th>coal_co2</th>\n",
       "      <th>flaring_co2</th>\n",
       "      <th>gas_co2</th>\n",
       "      <th>oil_co2</th>\n",
       "      <th>other_industry_co2</th>\n",
       "      <th>land_use_change_co2</th>\n",
       "      <th>total_co2</th>\n",
       "    </tr>\n",
       "  </thead>\n",
       "  <tbody>\n",
       "    <tr>\n",
       "      <th>cement_co2</th>\n",
       "      <td>1.000000</td>\n",
       "      <td>0.934176</td>\n",
       "      <td>0.083631</td>\n",
       "      <td>0.263522</td>\n",
       "      <td>0.424982</td>\n",
       "      <td>0.913285</td>\n",
       "      <td>0.183880</td>\n",
       "      <td>0.781503</td>\n",
       "    </tr>\n",
       "    <tr>\n",
       "      <th>coal_co2</th>\n",
       "      <td>0.934176</td>\n",
       "      <td>1.000000</td>\n",
       "      <td>0.195044</td>\n",
       "      <td>0.479874</td>\n",
       "      <td>0.643039</td>\n",
       "      <td>0.933727</td>\n",
       "      <td>0.215342</td>\n",
       "      <td>0.925070</td>\n",
       "    </tr>\n",
       "    <tr>\n",
       "      <th>flaring_co2</th>\n",
       "      <td>0.083631</td>\n",
       "      <td>0.195044</td>\n",
       "      <td>1.000000</td>\n",
       "      <td>0.602031</td>\n",
       "      <td>0.478885</td>\n",
       "      <td>0.159396</td>\n",
       "      <td>0.145500</td>\n",
       "      <td>0.387449</td>\n",
       "    </tr>\n",
       "    <tr>\n",
       "      <th>gas_co2</th>\n",
       "      <td>0.263522</td>\n",
       "      <td>0.479874</td>\n",
       "      <td>0.602031</td>\n",
       "      <td>1.000000</td>\n",
       "      <td>0.894589</td>\n",
       "      <td>0.368216</td>\n",
       "      <td>0.110521</td>\n",
       "      <td>0.761734</td>\n",
       "    </tr>\n",
       "    <tr>\n",
       "      <th>oil_co2</th>\n",
       "      <td>0.424982</td>\n",
       "      <td>0.643039</td>\n",
       "      <td>0.478885</td>\n",
       "      <td>0.894589</td>\n",
       "      <td>1.000000</td>\n",
       "      <td>0.496466</td>\n",
       "      <td>0.195953</td>\n",
       "      <td>0.879044</td>\n",
       "    </tr>\n",
       "    <tr>\n",
       "      <th>other_industry_co2</th>\n",
       "      <td>0.913285</td>\n",
       "      <td>0.933727</td>\n",
       "      <td>0.159396</td>\n",
       "      <td>0.368216</td>\n",
       "      <td>0.496466</td>\n",
       "      <td>1.000000</td>\n",
       "      <td>0.259787</td>\n",
       "      <td>0.819947</td>\n",
       "    </tr>\n",
       "    <tr>\n",
       "      <th>land_use_change_co2</th>\n",
       "      <td>0.183880</td>\n",
       "      <td>0.215342</td>\n",
       "      <td>0.145500</td>\n",
       "      <td>0.110521</td>\n",
       "      <td>0.195953</td>\n",
       "      <td>0.259787</td>\n",
       "      <td>1.000000</td>\n",
       "      <td>0.219763</td>\n",
       "    </tr>\n",
       "    <tr>\n",
       "      <th>total_co2</th>\n",
       "      <td>0.781503</td>\n",
       "      <td>0.925070</td>\n",
       "      <td>0.387449</td>\n",
       "      <td>0.761734</td>\n",
       "      <td>0.879044</td>\n",
       "      <td>0.819947</td>\n",
       "      <td>0.219763</td>\n",
       "      <td>1.000000</td>\n",
       "    </tr>\n",
       "  </tbody>\n",
       "</table>\n",
       "</div>"
      ],
      "text/plain": [
       "                     cement_co2  coal_co2  flaring_co2   gas_co2   oil_co2  \\\n",
       "cement_co2             1.000000  0.934176     0.083631  0.263522  0.424982   \n",
       "coal_co2               0.934176  1.000000     0.195044  0.479874  0.643039   \n",
       "flaring_co2            0.083631  0.195044     1.000000  0.602031  0.478885   \n",
       "gas_co2                0.263522  0.479874     0.602031  1.000000  0.894589   \n",
       "oil_co2                0.424982  0.643039     0.478885  0.894589  1.000000   \n",
       "other_industry_co2     0.913285  0.933727     0.159396  0.368216  0.496466   \n",
       "land_use_change_co2    0.183880  0.215342     0.145500  0.110521  0.195953   \n",
       "total_co2              0.781503  0.925070     0.387449  0.761734  0.879044   \n",
       "\n",
       "                     other_industry_co2  land_use_change_co2  total_co2  \n",
       "cement_co2                     0.913285             0.183880   0.781503  \n",
       "coal_co2                       0.933727             0.215342   0.925070  \n",
       "flaring_co2                    0.159396             0.145500   0.387449  \n",
       "gas_co2                        0.368216             0.110521   0.761734  \n",
       "oil_co2                        0.496466             0.195953   0.879044  \n",
       "other_industry_co2             1.000000             0.259787   0.819947  \n",
       "land_use_change_co2            0.259787             1.000000   0.219763  \n",
       "total_co2                      0.819947             0.219763   1.000000  "
      ]
     },
     "execution_count": 64,
     "metadata": {},
     "output_type": "execute_result"
    }
   ],
   "source": [
    "corr_emissions_sources = carbon_emission_feat.corr(method = \"pearson\", min_periods=1)\n",
    "corr_emissions_sources"
   ]
  },
  {
   "cell_type": "code",
   "execution_count": 65,
   "metadata": {},
   "outputs": [
    {
     "data": {
      "text/plain": [
       "Text(0.5, 1.0, 'Correlation Heatmap')"
      ]
     },
     "execution_count": 65,
     "metadata": {},
     "output_type": "execute_result"
    },
    {
     "data": {
      "image/png": "[encoded data removed]",
      "text/plain": [
       "<Figure size 1100x400 with 2 Axes>"
      ]
     },
     "metadata": {},
     "output_type": "display_data"
    }
   ],
   "source": [
    "correlation_2_heatmap_graph = plt.figure(figsize = (11, 4))\n",
    "sns.heatmap(corr_emissions_sources, linewidths = 0.5, annot = True, cmap = \"flare\")\n",
    "plt.title(\"Correlation Heatmap\", size = 12)"
   ]
  },
  {
   "cell_type": "markdown",
   "metadata": {},
   "source": [
    "There is a super strong positive correlation between coal emission and total CO<sub>2</sub> emissions.\n",
    "\n",
    "There is a strong positive correlation between oil, other industries, cement and gas and total CO<sub>2</sub> emissions.\n",
    "\n",
    "There is a weak positive correlation between flaring and land use change and total CO<sub>2</sub> emissions."
   ]
  },
  {
   "cell_type": "markdown",
   "metadata": {},
   "source": [
    "## Insights"
   ]
  },
  {
   "cell_type": "markdown",
   "metadata": {},
   "source": [
    "The main goal of this project is to explore the CO<sub>2</sub> dataset to find insightful data on carbon dioxide emissions, their evolution over the last 50 years and the factors influencing them.\n",
    "\n",
    "* __2021 the year with the highest CO<sub>2</sub> emissions__\n",
    "\n",
    "Through this analysis, it was found that carbon dioxide emissions have been increasing over the last 50 years, with the year 2021 being the year of the highest CO<sub>2</sub> emissions. \n",
    "\n",
    "* __Asia was the continent that emitted most CO<sub>2</sub>__\n",
    "\n",
    "The continent that has produced the most CO<sub>2</sub> emissions over the last 50 years has been Asia, followed by Europe and North America. Since 1990, Europe has decreased its CO<sub>2</sub>  emissions, while North America has kept them stable and Asia has increased them dramatically. For this reason, Asia is the continent with the highest carbon dioxide emissions. Before 1990, Europe was the continent that emitted the most CO<sub>2</sub>.\n",
    "\n",
    "* __The U.S. is the country that has emitted the most CO<sub>2</sub> in the last 50 years.__\n",
    "\n",
    "The United States is the country that has emitted the most CO<sub>2</sub> in the last 50 years. While the U.S. has decreased its emission since 2008, China, on the contrary, has exponentially increased its emissions, becoming the top CO<sub>2</sub> emitter in 2021. On the other hand, Germany has been slowly decreasing its emission since 1990 to reach its lowest point in 2020.\n",
    "\n",
    "* __Coal is the main source of CO<sub>2</sub> emissions__\n",
    "\n",
    "Coal is the main source of CO<sub>2</sub> emissions, followed by oil and gas. Since 2000, coal emissions have increased dramatically. This is due to increased emissions in China, which mainly uses coal as fuel. \n",
    "\n",
    "The main source of CO<sub>2</sub> emissions in the United States is oil and coal, while in China it is mainly coal, followed by a high amount of emissions from land use change. This is easily explained by the country's development and the deforestation and construction of new cities. Germany, as well as the United States, emits CO<sub>2</sub> mainly through coal and oil. It should not be forgotten that land use change in Germany is negative, which means that CO<sub>2</sub> from the atmosphere is captured and removed, thus reducing the amount of CO<sub>2</sub> in the atmosphere.\n",
    "\n",
    "* __Land use change emissions__\n",
    "\n",
    "Land plays an important role in the global cycles of greenhouse gases such as carbon dioxide. Land use activities can lead to emissions of carbon dioxide into the atmosphere or its removal from the atmosphere. Positive emissions mean that carbon dioxide is emitted into the atmosphere, while negative emissions mean that carbon dioxide is captured and removed from the atmosphere.\n",
    "\n",
    "The countries that contributed positively, i.e., emitted CO<sub>2</sub> into the atmosphere, through land use change were Brazil, Indonesia and China. On the other hand, the countries that contributed negatively, i.e. removed CO<sub>2</sub> from the atmosphere, were Italy, Poland and France. This is due to environmental policies in the European Union and the commitment to reduce carbon dioxide emissions into the atmosphere. \n",
    "\n",
    "* __GDP and population correlations__\n",
    "\n",
    "During this study it was found that GDP has a strong positive correlation with total CO<sub>2</sub> emissions. Also, population has a moderate correlation with CO<sub>2</sub> total emissions.\n",
    "\n",
    "* __Sources of CO<sub>2</sub> emissions correlations__\n",
    "\n",
    "During this study it was found that coal, oil, gas, and other industries have a high correlation with the total emission of CO<sub>2</sub>."
   ]
  }
 ],
 "metadata": {
  "kernelspec": {
   "display_name": ".venv",
   "language": "python",
   "name": "python3"
  },
  "language_info": {
   "codemirror_mode": {
    "name": "ipython",
    "version": 3
   },
   "file_extension": ".py",
   "mimetype": "text/x-python",
   "name": "python",
   "nbconvert_exporter": "python",
   "pygments_lexer": "ipython3",
   "version": "3.10.2"
  }
 },
 "nbformat": 4,
 "nbformat_minor": 2
}
